{
  "nbformat": 4,
  "nbformat_minor": 0,
  "metadata": {
    "colab": {
      "provenance": [],
      "collapsed_sections": [
        "oBSipcuGz-9g",
        "i4OkTuFondsg",
        "3flksiTD6sKy",
        "qLEoTZq34bu5",
        "ujZkUfPh4s6Q",
        "icW3Y3YBAZWC",
        "Z27hfbPIymSQ",
        "RMbDaC8o4QVl"
      ]
    },
    "kernelspec": {
      "name": "ir",
      "display_name": "R"
    },
    "language_info": {
      "name": "R"
    }
  },
  "cells": [
    {
      "cell_type": "markdown",
      "source": [
        "# Installing necessary packages:\n",
        "\n"
      ],
      "metadata": {
        "id": "oBSipcuGz-9g"
      }
    },
    {
      "cell_type": "markdown",
      "source": [
        "mlogit,  \n",
        "dfidx,\n",
        "ggpubr"
      ],
      "metadata": {
        "id": "IELLPenzH2Tm"
      }
    },
    {
      "cell_type": "code",
      "source": [
        "install.packages('mlogit')\n",
        "install.packages('dfidx')\n",
        "# install.packages(\"ggpubr\")"
      ],
      "metadata": {
        "colab": {
          "base_uri": "https://localhost:8080/"
        },
        "id": "pl_zn5CD0vzm",
        "outputId": "02b1fcab-ff06-4922-d496-f51c0f77ef54"
      },
      "execution_count": null,
      "outputs": [
        {
          "output_type": "stream",
          "name": "stderr",
          "text": [
            "Installing package into ‘/usr/local/lib/R/site-library’\n",
            "(as ‘lib’ is unspecified)\n",
            "\n",
            "also installing the dependencies ‘rbibutils’, ‘dfidx’, ‘Formula’, ‘zoo’, ‘lmtest’, ‘statmod’, ‘Rdpack’\n",
            "\n",
            "\n",
            "Installing package into ‘/usr/local/lib/R/site-library’\n",
            "(as ‘lib’ is unspecified)\n",
            "\n"
          ]
        }
      ]
    },
    {
      "cell_type": "markdown",
      "source": [
        "# Exploratory Analysis and Data Pre-processing"
      ],
      "metadata": {
        "id": "i4OkTuFondsg"
      }
    },
    {
      "cell_type": "code",
      "execution_count": null,
      "metadata": {
        "id": "9YUTar-GQ74w"
      },
      "outputs": [],
      "source": [
        "# Setting random number generator to use pre R 3.6 method\n",
        "\n",
        "if (getRversion() >= \"3.6.0\") suppressWarnings(RNGversion(\"3.5.0\"))"
      ]
    },
    {
      "cell_type": "markdown",
      "source": [
        "Setting up attributes to be used in Share Simulator"
      ],
      "metadata": {
        "id": "R2G2H_aFp9Vn"
      }
    },
    {
      "cell_type": "code",
      "source": [
        "# Setting up attributes to be used in Share Simulator\n",
        "attrib <- list(Price  = c(\"Value(3€-10€)\", \"Popular(10€-15€)\", \"Premium(15€-30€)\", \"Luxury(50€-100€)\"),\n",
        "               Brand = c(\"Cantina Toblino\", \"Cavit\", \"Ferrari\",\"Mezzacorona\"),\n",
        "               Type.of.Wine = c(\"Red wine\", \"Rose wine\", \"Sparkling wine\", \"White wine\"),\n",
        "               Percentage.of.Alcohol = c(\"5.5 %\", \"7 %\", \"12 %\", \"18 %\"),\n",
        "               Aging.time.of.Wine = c(\"1 year\", \"2 years\", \"3 years\", \"4 years\", \"5 years\"))"
      ],
      "metadata": {
        "id": "3yyVWEHFj8n7"
      },
      "execution_count": null,
      "outputs": []
    },
    {
      "cell_type": "markdown",
      "source": [
        "Load the dataset hosted on Git using read.csv. Run a summary."
      ],
      "metadata": {
        "id": "SubWd25Q0Lsx"
      }
    },
    {
      "cell_type": "code",
      "source": [
        "# Load the data from hosted repo for reproducability of code\n",
        "\n",
        "df1 <- read.csv(\"https://raw.githubusercontent.com/KSwaviman/Conjoint-Analysis/main/conjoint_survey_resp_v1.csv\",\n",
        "                   colClasses = c(Price = \"factor\", Brand = \"factor\",Type.of.Wine = \"factor\",Percentage.of.Alcohol = \"factor\",\n",
        "                                  Aging.time.of.Wine = \"factor\",\n",
        "                                  choice=\"integer\"))\n",
        "# Summary of data\n",
        "summary(df1)"
      ],
      "metadata": {
        "colab": {
          "base_uri": "https://localhost:8080/",
          "height": 659
        },
        "id": "TxI5LdEJNGys",
        "outputId": "369d2683-ae94-4e58-ffdf-0a68c08875f2"
      },
      "execution_count": null,
      "outputs": [
        {
          "output_type": "stream",
          "name": "stderr",
          "text": [
            "Warning message in read.table(file = file, header = header, sep = sep, quote = quote, :\n",
            "“not all columns named in 'colClasses' exist”\n"
          ]
        },
        {
          "output_type": "display_data",
          "data": {
            "text/plain": [
              "       X            resp.id          ques       alt           \n",
              " Min.   :  0.0   Min.   : 1.0   Min.   :1   Length:840        \n",
              " 1st Qu.:209.8   1st Qu.: 8.0   1st Qu.:2   Class :character  \n",
              " Median :419.5   Median :15.5   Median :4   Mode  :character  \n",
              " Mean   :419.5   Mean   :15.5   Mean   :4                     \n",
              " 3rd Qu.:629.2   3rd Qu.:23.0   3rd Qu.:6                     \n",
              " Max.   :839.0   Max.   :30.0   Max.   :7                     \n",
              "              Price                 Brand             Type.of.Wine\n",
              " Luxury(50€-100€):198   Cantina Toblino:231   Red wine      :199  \n",
              " Popular(10€-15€):247   Cavit          :203   Rose wine     :194  \n",
              " Premium(15€-30€):200   Ferrari        :213   Sparkling wine:234  \n",
              " Value(3€-10€)   :195   Mezzacorona    :193   White wine    :213  \n",
              "                                                                  \n",
              "                                                                  \n",
              " Percentage.of.Alcohol Aging.time.of.Wine      Age            Sex           \n",
              " 12 % :218             1 year :162        Min.   :1.000   Length:840        \n",
              " 18 % :192             2 years:163        1st Qu.:1.000   Class :character  \n",
              " 5.5 %:202             3 years:185        Median :1.000   Mode  :character  \n",
              " 7 %  :228             4 years:159        Mean   :1.167                     \n",
              "                       5 years:171        3rd Qu.:1.000                     \n",
              "                                          Max.   :4.000                     \n",
              " Employment.status   Education          Ethnicity         Social.Platforms  \n",
              " Length:840         Length:840         Length:840         Length:840        \n",
              " Class :character   Class :character   Class :character   Class :character  \n",
              " Mode  :character   Mode  :character   Mode  :character   Mode  :character  \n",
              "                                                                            \n",
              "                                                                            \n",
              "                                                                            \n",
              " Physical.Activities     Choice    \n",
              " Length:840          Min.   :0.00  \n",
              " Class :character    1st Qu.:0.00  \n",
              " Mode  :character    Median :0.00  \n",
              "                     Mean   :0.25  \n",
              "                     3rd Qu.:0.25  \n",
              "                     Max.   :1.00  "
            ]
          },
          "metadata": {}
        }
      ]
    },
    {
      "cell_type": "markdown",
      "source": [
        "From the summary we observe, the features of interest are of desired data types.    \n",
        "Choice column is in integer and Predictors in Factor."
      ],
      "metadata": {
        "id": "SHdZLadw0TX0"
      }
    },
    {
      "cell_type": "code",
      "source": [
        "# We select only the predictor columns and store in in a new dataframe.\n",
        "# Excluding the demographic info from collected survey data.\n",
        "\n",
        "df = df1[,c(2,3,4,5,6,7,8,9,17)]"
      ],
      "metadata": {
        "id": "WahuUSM4yXYZ"
      },
      "execution_count": null,
      "outputs": []
    },
    {
      "cell_type": "code",
      "source": [
        "# To check the head of data\n",
        "\n",
        "head(df)"
      ],
      "metadata": {
        "colab": {
          "base_uri": "https://localhost:8080/",
          "height": 286
        },
        "id": "5GuLF2eKnroW",
        "outputId": "a1225818-6822-46c4-cd19-8fb247e7c988"
      },
      "execution_count": null,
      "outputs": [
        {
          "output_type": "display_data",
          "data": {
            "text/html": [
              "<table class=\"dataframe\">\n",
              "<caption>A data.frame: 6 × 9</caption>\n",
              "<thead>\n",
              "\t<tr><th></th><th scope=col>resp.id</th><th scope=col>ques</th><th scope=col>alt</th><th scope=col>Price</th><th scope=col>Brand</th><th scope=col>Type.of.Wine</th><th scope=col>Percentage.of.Alcohol</th><th scope=col>Aging.time.of.Wine</th><th scope=col>Choice</th></tr>\n",
              "\t<tr><th></th><th scope=col>&lt;int&gt;</th><th scope=col>&lt;int&gt;</th><th scope=col>&lt;chr&gt;</th><th scope=col>&lt;fct&gt;</th><th scope=col>&lt;fct&gt;</th><th scope=col>&lt;fct&gt;</th><th scope=col>&lt;fct&gt;</th><th scope=col>&lt;fct&gt;</th><th scope=col>&lt;int&gt;</th></tr>\n",
              "</thead>\n",
              "<tbody>\n",
              "\t<tr><th scope=row>1</th><td>1</td><td>1</td><td>Option 1</td><td>Value(3€-10€)   </td><td>Cavit          </td><td>White wine    </td><td>5.5 %</td><td>3 years</td><td>0</td></tr>\n",
              "\t<tr><th scope=row>2</th><td>1</td><td>1</td><td>Option 2</td><td>Popular(10€-15€)</td><td>Mezzacorona    </td><td>White wine    </td><td>18 % </td><td>1 year </td><td>1</td></tr>\n",
              "\t<tr><th scope=row>3</th><td>1</td><td>1</td><td>Option 3</td><td>Premium(15€-30€)</td><td>Ferrari        </td><td>Rose wine     </td><td>12 % </td><td>1 year </td><td>0</td></tr>\n",
              "\t<tr><th scope=row>4</th><td>1</td><td>1</td><td>Option 4</td><td>Popular(10€-15€)</td><td>Ferrari        </td><td>Rose wine     </td><td>18 % </td><td>4 years</td><td>0</td></tr>\n",
              "\t<tr><th scope=row>5</th><td>1</td><td>2</td><td>Option 1</td><td>Premium(15€-30€)</td><td>Mezzacorona    </td><td>Sparkling wine</td><td>7 %  </td><td>4 years</td><td>1</td></tr>\n",
              "\t<tr><th scope=row>6</th><td>1</td><td>2</td><td>Option 2</td><td>Value(3€-10€)   </td><td>Cantina Toblino</td><td>Rose wine     </td><td>12 % </td><td>5 years</td><td>0</td></tr>\n",
              "</tbody>\n",
              "</table>\n"
            ],
            "text/markdown": "\nA data.frame: 6 × 9\n\n| <!--/--> | resp.id &lt;int&gt; | ques &lt;int&gt; | alt &lt;chr&gt; | Price &lt;fct&gt; | Brand &lt;fct&gt; | Type.of.Wine &lt;fct&gt; | Percentage.of.Alcohol &lt;fct&gt; | Aging.time.of.Wine &lt;fct&gt; | Choice &lt;int&gt; |\n|---|---|---|---|---|---|---|---|---|---|\n| 1 | 1 | 1 | Option 1 | Value(3€-10€)    | Cavit           | White wine     | 5.5 % | 3 years | 0 |\n| 2 | 1 | 1 | Option 2 | Popular(10€-15€) | Mezzacorona     | White wine     | 18 %  | 1 year  | 1 |\n| 3 | 1 | 1 | Option 3 | Premium(15€-30€) | Ferrari         | Rose wine      | 12 %  | 1 year  | 0 |\n| 4 | 1 | 1 | Option 4 | Popular(10€-15€) | Ferrari         | Rose wine      | 18 %  | 4 years | 0 |\n| 5 | 1 | 2 | Option 1 | Premium(15€-30€) | Mezzacorona     | Sparkling wine | 7 %   | 4 years | 1 |\n| 6 | 1 | 2 | Option 2 | Value(3€-10€)    | Cantina Toblino | Rose wine      | 12 %  | 5 years | 0 |\n\n",
            "text/latex": "A data.frame: 6 × 9\n\\begin{tabular}{r|lllllllll}\n  & resp.id & ques & alt & Price & Brand & Type.of.Wine & Percentage.of.Alcohol & Aging.time.of.Wine & Choice\\\\\n  & <int> & <int> & <chr> & <fct> & <fct> & <fct> & <fct> & <fct> & <int>\\\\\n\\hline\n\t1 & 1 & 1 & Option 1 & Value(3€-10€)    & Cavit           & White wine     & 5.5 \\% & 3 years & 0\\\\\n\t2 & 1 & 1 & Option 2 & Popular(10€-15€) & Mezzacorona     & White wine     & 18 \\%  & 1 year  & 1\\\\\n\t3 & 1 & 1 & Option 3 & Premium(15€-30€) & Ferrari         & Rose wine      & 12 \\%  & 1 year  & 0\\\\\n\t4 & 1 & 1 & Option 4 & Popular(10€-15€) & Ferrari         & Rose wine      & 18 \\%  & 4 years & 0\\\\\n\t5 & 1 & 2 & Option 1 & Premium(15€-30€) & Mezzacorona     & Sparkling wine & 7 \\%   & 4 years & 1\\\\\n\t6 & 1 & 2 & Option 2 & Value(3€-10€)    & Cantina Toblino & Rose wine      & 12 \\%  & 5 years & 0\\\\\n\\end{tabular}\n",
            "text/plain": [
              "  resp.id ques alt      Price            Brand           Type.of.Wine  \n",
              "1 1       1    Option 1 Value(3€-10€)    Cavit           White wine    \n",
              "2 1       1    Option 2 Popular(10€-15€) Mezzacorona     White wine    \n",
              "3 1       1    Option 3 Premium(15€-30€) Ferrari         Rose wine     \n",
              "4 1       1    Option 4 Popular(10€-15€) Ferrari         Rose wine     \n",
              "5 1       2    Option 1 Premium(15€-30€) Mezzacorona     Sparkling wine\n",
              "6 1       2    Option 2 Value(3€-10€)    Cantina Toblino Rose wine     \n",
              "  Percentage.of.Alcohol Aging.time.of.Wine Choice\n",
              "1 5.5 %                 3 years            0     \n",
              "2 18 %                  1 year             1     \n",
              "3 12 %                  1 year             0     \n",
              "4 18 %                  4 years            0     \n",
              "5 7 %                   4 years            1     \n",
              "6 12 %                  5 years            0     "
            ]
          },
          "metadata": {}
        }
      ]
    },
    {
      "cell_type": "markdown",
      "source": [
        "Cross Tab to check the count per category. "
      ],
      "metadata": {
        "id": "dJ6yx5NO06kk"
      }
    },
    {
      "cell_type": "code",
      "source": [
        "xtabs(Choice ~ Brand, data=df)"
      ],
      "metadata": {
        "colab": {
          "base_uri": "https://localhost:8080/",
          "height": 69
        },
        "id": "1h1z1CDfuzET",
        "outputId": "1bacf818-843e-44ef-fc4c-743e9c979424"
      },
      "execution_count": null,
      "outputs": [
        {
          "output_type": "display_data",
          "data": {
            "text/plain": [
              "Brand\n",
              "Cantina Toblino           Cavit         Ferrari     Mezzacorona \n",
              "             42              47              66              55 "
            ]
          },
          "metadata": {}
        }
      ]
    },
    {
      "cell_type": "markdown",
      "source": [
        "Xtab also helps us understand if we have any imbalance as well as missing values."
      ],
      "metadata": {
        "id": "hg3GLhSX1AXG"
      }
    },
    {
      "cell_type": "code",
      "source": [
        "xtabs(Choice ~ Price, data=df)"
      ],
      "metadata": {
        "colab": {
          "base_uri": "https://localhost:8080/",
          "height": 69
        },
        "id": "2yJwij37zfSc",
        "outputId": "061c0106-4f22-4ca8-9b2e-3423dce30b2e"
      },
      "execution_count": null,
      "outputs": [
        {
          "output_type": "display_data",
          "data": {
            "text/plain": [
              "Price\n",
              "Luxury(50€-100€) Popular(10€-15€) Premium(15€-30€)    Value(3€-10€) \n",
              "              20               81               47               62 "
            ]
          },
          "metadata": {}
        }
      ]
    },
    {
      "cell_type": "markdown",
      "source": [
        "The data appears fine."
      ],
      "metadata": {
        "id": "WJj9D6h61HNn"
      }
    },
    {
      "cell_type": "markdown",
      "source": [
        "# Fitting a choice model with Conditional Logistic Regression:"
      ],
      "metadata": {
        "id": "Fa4h5xNG1NPI"
      }
    },
    {
      "cell_type": "markdown",
      "source": [
        "## Transforming data:  \n",
        "\n",
        "Before feeding the dataframe to mlog we need to perform certain transformation to the data."
      ],
      "metadata": {
        "id": "3flksiTD6sKy"
      }
    },
    {
      "cell_type": "code",
      "source": [
        "library(mlogit)\n",
        "\n",
        "# Transforming the dataframe to fit into mlogit() later:\n",
        "\n",
        "# building a new column chid as the existing indexes aren't unique. \n",
        "# /4 as we have 4 alternative profiles in each question.\n",
        "df$chid <- rep(1:(nrow(df)/4), each=4)\n",
        "\n",
        "# converting Choice values to logical as dfidx expects logical choice input\n",
        "df$Choice = as.logical(df$Choice)\n",
        "\n",
        "# Making alt factors numbers.\n",
        "df$alt = factor(df$alt,\n",
        "                levels = c('Option 1','Option 2','Option 3', 'Option 4'),\n",
        "                labels = c(1,2,3,4))\n",
        "\n",
        "# shape the data for mlogit\n",
        "cbc.mlogit <- dfidx(df, choice=\"Choice\", idx=list(c(\"chid\", \"resp.id\"), \"alt\" ))"
      ],
      "metadata": {
        "colab": {
          "base_uri": "https://localhost:8080/"
        },
        "id": "7beGbsP5z2bZ",
        "outputId": "c078af72-dd23-40e9-fb70-266411ec50a7"
      },
      "execution_count": null,
      "outputs": [
        {
          "output_type": "stream",
          "name": "stderr",
          "text": [
            "Loading required package: dfidx\n",
            "\n",
            "\n",
            "Attaching package: ‘dfidx’\n",
            "\n",
            "\n",
            "The following object is masked from ‘package:stats’:\n",
            "\n",
            "    filter\n",
            "\n",
            "\n"
          ]
        }
      ]
    },
    {
      "cell_type": "code",
      "source": [
        "# df$Choice = as.double(df$Choice) "
      ],
      "metadata": {
        "id": "K3eCGqCMXMa2"
      },
      "execution_count": null,
      "outputs": []
    },
    {
      "cell_type": "markdown",
      "source": [
        "Checking the transformed data from dfidx.  \n",
        "Identifies distinct indexes, separate from the main dataframe.  \n"
      ],
      "metadata": {
        "id": "pgyRfTAv3-NG"
      }
    },
    {
      "cell_type": "code",
      "source": [
        "head(cbc.mlogit)"
      ],
      "metadata": {
        "colab": {
          "base_uri": "https://localhost:8080/"
        },
        "id": "3Pr0RXeeYJpe",
        "outputId": "41cff9f0-6ebe-491a-c8f4-f6f4289cd27c"
      },
      "execution_count": null,
      "outputs": [
        {
          "output_type": "stream",
          "name": "stdout",
          "text": [
            "~~~~~~~\n",
            " first 10 observations out of 840 \n",
            "~~~~~~~\n",
            "   ques            Price           Brand   Type.of.Wine Percentage.of.Alcohol\n",
            "1     1    Value(3€-10€)           Cavit     White wine                 5.5 %\n",
            "2     1 Popular(10€-15€)     Mezzacorona     White wine                  18 %\n",
            "3     1 Premium(15€-30€)         Ferrari      Rose wine                  12 %\n",
            "4     1 Popular(10€-15€)         Ferrari      Rose wine                  18 %\n",
            "5     2 Premium(15€-30€)     Mezzacorona Sparkling wine                   7 %\n",
            "6     2    Value(3€-10€) Cantina Toblino      Rose wine                  12 %\n",
            "7     2 Luxury(50€-100€)         Ferrari Sparkling wine                  12 %\n",
            "8     2 Luxury(50€-100€)     Mezzacorona       Red wine                   7 %\n",
            "9     3 Luxury(50€-100€)         Ferrari     White wine                   7 %\n",
            "10    3    Value(3€-10€) Cantina Toblino Sparkling wine                   7 %\n",
            "   Aging.time.of.Wine Choice idx\n",
            "1             3 years  FALSE 1:1\n",
            "2             1 year    TRUE 1:2\n",
            "3             1 year   FALSE 1:3\n",
            "4             4 years  FALSE 1:4\n",
            "5             4 years   TRUE 2:1\n",
            "6             5 years  FALSE 2:2\n",
            "7             2 years  FALSE 2:3\n",
            "8             4 years  FALSE 2:4\n",
            "9             1 year   FALSE 3:1\n",
            "10            4 years  FALSE 3:2\n",
            "\n",
            "~~~ indexes ~~~~\n",
            "   chid resp.id alt\n",
            "1     1       1   1\n",
            "2     1       1   2\n",
            "3     1       1   3\n",
            "4     1       1   4\n",
            "5     2       1   1\n",
            "6     2       1   2\n",
            "7     2       1   3\n",
            "8     2       1   4\n",
            "9     3       1   1\n",
            "10    3       1   2\n",
            "indexes:  1, 1, 2 \n"
          ]
        }
      ]
    },
    {
      "cell_type": "markdown",
      "source": [
        "## Fitting the MLogit Model without intercepts:"
      ],
      "metadata": {
        "id": "qLEoTZq34bu5"
      }
    },
    {
      "cell_type": "code",
      "source": [
        "# fit the models\n",
        "library(mlogit)\n",
        "\n",
        "m1 <- mlogit(Choice ~ 0 + Price\t+ Brand\t+ Type.of.Wine\t+Percentage.of.Alcohol\t+Aging.time.of.Wine, data = cbc.mlogit)\n",
        "\n",
        "summary(m1)"
      ],
      "metadata": {
        "colab": {
          "base_uri": "https://localhost:8080/",
          "height": 659
        },
        "id": "V8BHMrmjBbda",
        "outputId": "65044b0f-60a6-4c00-a8ff-a5e5ed351478"
      },
      "execution_count": null,
      "outputs": [
        {
          "output_type": "display_data",
          "data": {
            "text/plain": [
              "\n",
              "Call:\n",
              "mlogit(formula = Choice ~ 0 + Price + Brand + Type.of.Wine + \n",
              "    Percentage.of.Alcohol + Aging.time.of.Wine, data = cbc.mlogit, \n",
              "    method = \"nr\")\n",
              "\n",
              "Frequencies of alternatives:choice\n",
              "      1       2       3       4 \n",
              "0.20476 0.26667 0.22381 0.30476 \n",
              "\n",
              "nr method\n",
              "4 iterations, 0h:0m:0s \n",
              "g'(-H)^-1g = 7.07E-07 \n",
              "gradient close to zero \n",
              "\n",
              "Coefficients :\n",
              "                            Estimate Std. Error z-value  Pr(>|z|)    \n",
              "PricePopular(10€-15€)       1.503812   0.274514  5.4781 4.299e-08 ***\n",
              "PricePremium(15€-30€)       1.034239   0.294471  3.5122 0.0004444 ***\n",
              "PriceValue(3€-10€)          1.423789   0.285615  4.9850 6.197e-07 ***\n",
              "BrandCavit                  0.353767   0.250166  1.4141 0.1573237    \n",
              "BrandFerrari                0.875427   0.243341  3.5975 0.0003213 ***\n",
              "BrandMezzacorona            0.663960   0.250648  2.6490 0.0080736 ** \n",
              "Type.of.WineRose wine      -0.083027   0.254559 -0.3262 0.7443021    \n",
              "Type.of.WineSparkling wine  0.217729   0.236474  0.9207 0.3571916    \n",
              "Type.of.WineWhite wine      0.238447   0.241399  0.9878 0.3232645    \n",
              "Percentage.of.Alcohol18 %   0.224076   0.246609  0.9086 0.3635468    \n",
              "Percentage.of.Alcohol5.5 %  0.388347   0.241419  1.6086 0.1077041    \n",
              "Percentage.of.Alcohol7 %    0.311218   0.239271  1.3007 0.1933633    \n",
              "Aging.time.of.Wine2 years  -0.437539   0.277900 -1.5744 0.1153839    \n",
              "Aging.time.of.Wine3 years   0.048895   0.257447  0.1899 0.8493700    \n",
              "Aging.time.of.Wine4 years  -0.229575   0.275379 -0.8337 0.4044683    \n",
              "Aging.time.of.Wine5 years  -0.024921   0.267110 -0.0933 0.9256665    \n",
              "---\n",
              "Signif. codes:  0 ‘***’ 0.001 ‘**’ 0.01 ‘*’ 0.05 ‘.’ 0.1 ‘ ’ 1\n",
              "\n",
              "Log-Likelihood: -260.09"
            ]
          },
          "metadata": {}
        }
      ]
    },
    {
      "cell_type": "markdown",
      "source": [
        "Explanation of the model output goes here ....   \n",
        "\n",
        "x     ------    x    ------    x"
      ],
      "metadata": {
        "id": "DK6x_OY24vKC"
      }
    },
    {
      "cell_type": "markdown",
      "source": [
        "## Fitting the MLogit Model with intercepts:"
      ],
      "metadata": {
        "id": "ujZkUfPh4s6Q"
      }
    },
    {
      "cell_type": "code",
      "source": [
        "m2 <- mlogit(Choice ~ Price\t+ Brand\t+ Type.of.Wine\t+Percentage.of.Alcohol\t+Aging.time.of.Wine, data = cbc.mlogit)\n",
        "\n",
        "summary(m2)"
      ],
      "metadata": {
        "colab": {
          "base_uri": "https://localhost:8080/"
        },
        "id": "iWoS-wanimEj",
        "outputId": "f3e435ae-9cf4-431a-9be0-bc3c32a9a4f5"
      },
      "execution_count": null,
      "outputs": [
        {
          "output_type": "display_data",
          "data": {
            "text/plain": [
              "\n",
              "Call:\n",
              "mlogit(formula = Choice ~ Price + Brand + Type.of.Wine + Percentage.of.Alcohol + \n",
              "    Aging.time.of.Wine, data = cbc.mlogit, method = \"nr\")\n",
              "\n",
              "Frequencies of alternatives:choice\n",
              "      1       2       3       4 \n",
              "0.20476 0.26667 0.22381 0.30476 \n",
              "\n",
              "nr method\n",
              "5 iterations, 0h:0m:0s \n",
              "g'(-H)^-1g = 1.07E-06 \n",
              "successive function values within tolerance limits \n",
              "\n",
              "Coefficients :\n",
              "                            Estimate Std. Error z-value  Pr(>|z|)    \n",
              "(Intercept):2               0.270761   0.214650  1.2614 0.2071636    \n",
              "(Intercept):3               0.141093   0.223449  0.6314 0.5277566    \n",
              "(Intercept):4               0.389553   0.210497  1.8506 0.0642213 .  \n",
              "PricePopular(10€-15€)       1.496454   0.275723  5.4274 5.719e-08 ***\n",
              "PricePremium(15€-30€)       1.011992   0.298370  3.3917 0.0006945 ***\n",
              "PriceValue(3€-10€)          1.392920   0.287908  4.8381 1.311e-06 ***\n",
              "BrandCavit                  0.380192   0.253446  1.5001 0.1335906    \n",
              "BrandFerrari                0.873869   0.244195  3.5786 0.0003455 ***\n",
              "BrandMezzacorona            0.696337   0.253610  2.7457 0.0060382 ** \n",
              "Type.of.WineRose wine      -0.079270   0.256657 -0.3089 0.7574297    \n",
              "Type.of.WineSparkling wine  0.246208   0.237565  1.0364 0.3000234    \n",
              "Type.of.WineWhite wine      0.252377   0.243251  1.0375 0.2994950    \n",
              "Percentage.of.Alcohol18 %   0.218244   0.248314  0.8789 0.3794536    \n",
              "Percentage.of.Alcohol5.5 %  0.418252   0.243099  1.7205 0.0853419 .  \n",
              "Percentage.of.Alcohol7 %    0.316370   0.240103  1.3176 0.1876230    \n",
              "Aging.time.of.Wine2 years  -0.422761   0.279153 -1.5144 0.1299138    \n",
              "Aging.time.of.Wine3 years   0.045125   0.258801  0.1744 0.8615808    \n",
              "Aging.time.of.Wine4 years  -0.231177   0.276693 -0.8355 0.4034370    \n",
              "Aging.time.of.Wine5 years  -0.022488   0.267952 -0.0839 0.9331148    \n",
              "---\n",
              "Signif. codes:  0 ‘***’ 0.001 ‘**’ 0.01 ‘*’ 0.05 ‘.’ 0.1 ‘ ’ 1\n",
              "\n",
              "Log-Likelihood: -258.16\n",
              "McFadden R^2:  0.10552 \n",
              "Likelihood ratio test : chisq = 60.91 (p.value = 3.6749e-07)"
            ]
          },
          "metadata": {}
        }
      ]
    },
    {
      "cell_type": "markdown",
      "source": [
        "Explanation of the model output goes here ....   \n",
        "\n",
        "x     ------    x    ------    x"
      ],
      "metadata": {
        "id": "LDeo147z5B04"
      }
    },
    {
      "cell_type": "markdown",
      "source": [
        "## Comparing M1 and M2 models using Likelihood Ratio Test:"
      ],
      "metadata": {
        "id": "QVYPvDU55eK5"
      }
    },
    {
      "cell_type": "code",
      "source": [
        "# comparing two models, m1 and m2 using likelihood ratio test \n",
        "\n",
        "(lrtest(m1, m2))"
      ],
      "metadata": {
        "colab": {
          "base_uri": "https://localhost:8080/"
        },
        "id": "ltUF19Yuaze9",
        "outputId": "2ad57ace-3a40-4e00-dbca-cfbf771e6326"
      },
      "execution_count": null,
      "outputs": [
        {
          "output_type": "display_data",
          "data": {
            "text/html": [
              "<table class=\"dataframe\">\n",
              "<caption>A anova: 2 × 5</caption>\n",
              "<thead>\n",
              "\t<tr><th></th><th scope=col>#Df</th><th scope=col>LogLik</th><th scope=col>Df</th><th scope=col>Chisq</th><th scope=col>Pr(&gt;Chisq)</th></tr>\n",
              "\t<tr><th></th><th scope=col>&lt;dbl&gt;</th><th scope=col>&lt;dbl&gt;</th><th scope=col>&lt;dbl&gt;</th><th scope=col>&lt;dbl&gt;</th><th scope=col>&lt;dbl&gt;</th></tr>\n",
              "</thead>\n",
              "<tbody>\n",
              "\t<tr><th scope=row>1</th><td>16</td><td>-260.0942</td><td>NA</td><td>     NA</td><td>       NA</td></tr>\n",
              "\t<tr><th scope=row>2</th><td>19</td><td>-258.1610</td><td> 3</td><td>3.86641</td><td>0.2762554</td></tr>\n",
              "</tbody>\n",
              "</table>\n"
            ],
            "text/markdown": "\nA anova: 2 × 5\n\n| <!--/--> | #Df &lt;dbl&gt; | LogLik &lt;dbl&gt; | Df &lt;dbl&gt; | Chisq &lt;dbl&gt; | Pr(&gt;Chisq) &lt;dbl&gt; |\n|---|---|---|---|---|---|\n| 1 | 16 | -260.0942 | NA |      NA |        NA |\n| 2 | 19 | -258.1610 |  3 | 3.86641 | 0.2762554 |\n\n",
            "text/latex": "A anova: 2 × 5\n\\begin{tabular}{r|lllll}\n  & \\#Df & LogLik & Df & Chisq & Pr(>Chisq)\\\\\n  & <dbl> & <dbl> & <dbl> & <dbl> & <dbl>\\\\\n\\hline\n\t1 & 16 & -260.0942 & NA &      NA &        NA\\\\\n\t2 & 19 & -258.1610 &  3 & 3.86641 & 0.2762554\\\\\n\\end{tabular}\n",
            "text/plain": [
              "  #Df LogLik    Df Chisq   Pr(>Chisq)\n",
              "1 16  -260.0942 NA      NA        NA \n",
              "2 19  -258.1610  3 3.86641 0.2762554 "
            ]
          },
          "metadata": {}
        }
      ]
    },
    {
      "cell_type": "markdown",
      "source": [
        "Likelihood Ratio Test gives a p value of 0.27 which is way higher than the conventional threshold of 0.05.   \n",
        "Hence we fail to reject the null hypothesis i.e. there exists no significant ifference between m1 model and m2 model.  \n",
        "\n",
        "This also means, excluding intercepts from our model doesn't affect the result significantly. Hence we can neglect the intercept terms henceforth."
      ],
      "metadata": {
        "id": "2ezTLdgT5bgM"
      }
    },
    {
      "cell_type": "markdown",
      "source": [
        "## Share Simulator:"
      ],
      "metadata": {
        "id": "NVPajQzO6hpM"
      }
    },
    {
      "cell_type": "code",
      "source": [
        "# function for predicting shares from a multinomial logit model \n",
        "\n",
        "predict.mnl <- function(model, data) {\n",
        "  # Explanation for the arguments passed to this function:\n",
        "  # model: mlogit object returned by mlogit()\n",
        "  # data: a data frame containing the set of designs for which you want to \n",
        "  #       predict shares.  Same format at the data used to estimate model. \n",
        "  data.model <- model.matrix(update(model$formula, 0 ~ .), data = data)[ , -1]\n",
        "  #print(data.model)\n",
        "  #print(model$coef)\n",
        "  utility <- data.model%*%model$coef\n",
        "  #print(utility) # just to see the utility matrix\n",
        "  share <- exp(utility)/sum(exp(utility))\n",
        "  cbind(share, data)\n",
        "}"
      ],
      "metadata": {
        "id": "mM-gr-AyjcCY"
      },
      "execution_count": null,
      "outputs": []
    },
    {
      "cell_type": "code",
      "source": [
        "# handpicking base as well as competitors from the master dataframe manually:\n",
        "\n",
        "(new.data <- expand.grid(attrib)[c(8, 1, 5, 71, 33, 69), ]) # find attrib at top"
      ],
      "metadata": {
        "colab": {
          "base_uri": "https://localhost:8080/",
          "height": 286
        },
        "id": "Z6jieuq-jh2w",
        "outputId": "40415bc3-9403-47be-d09a-ce5b67ba888f"
      },
      "execution_count": null,
      "outputs": [
        {
          "output_type": "display_data",
          "data": {
            "text/html": [
              "<table class=\"dataframe\">\n",
              "<caption>A data.frame: 6 × 5</caption>\n",
              "<thead>\n",
              "\t<tr><th></th><th scope=col>Price</th><th scope=col>Brand</th><th scope=col>Type.of.Wine</th><th scope=col>Percentage.of.Alcohol</th><th scope=col>Aging.time.of.Wine</th></tr>\n",
              "\t<tr><th></th><th scope=col>&lt;fct&gt;</th><th scope=col>&lt;fct&gt;</th><th scope=col>&lt;fct&gt;</th><th scope=col>&lt;fct&gt;</th><th scope=col>&lt;fct&gt;</th></tr>\n",
              "</thead>\n",
              "<tbody>\n",
              "\t<tr><th scope=row>8</th><td>Luxury(50€-100€)</td><td>Cavit          </td><td>Red wine      </td><td>5.5 %</td><td>1 year</td></tr>\n",
              "\t<tr><th scope=row>1</th><td>Value(3€-10€)   </td><td>Cantina Toblino</td><td>Red wine      </td><td>5.5 %</td><td>1 year</td></tr>\n",
              "\t<tr><th scope=row>5</th><td>Value(3€-10€)   </td><td>Cavit          </td><td>Red wine      </td><td>5.5 %</td><td>1 year</td></tr>\n",
              "\t<tr><th scope=row>71</th><td>Premium(15€-30€)</td><td>Cavit          </td><td>Red wine      </td><td>7 %  </td><td>1 year</td></tr>\n",
              "\t<tr><th scope=row>33</th><td>Value(3€-10€)   </td><td>Cantina Toblino</td><td>Sparkling wine</td><td>5.5 %</td><td>1 year</td></tr>\n",
              "\t<tr><th scope=row>69</th><td>Value(3€-10€)   </td><td>Cavit          </td><td>Red wine      </td><td>7 %  </td><td>1 year</td></tr>\n",
              "</tbody>\n",
              "</table>\n"
            ],
            "text/markdown": "\nA data.frame: 6 × 5\n\n| <!--/--> | Price &lt;fct&gt; | Brand &lt;fct&gt; | Type.of.Wine &lt;fct&gt; | Percentage.of.Alcohol &lt;fct&gt; | Aging.time.of.Wine &lt;fct&gt; |\n|---|---|---|---|---|---|\n| 8 | Luxury(50€-100€) | Cavit           | Red wine       | 5.5 % | 1 year |\n| 1 | Value(3€-10€)    | Cantina Toblino | Red wine       | 5.5 % | 1 year |\n| 5 | Value(3€-10€)    | Cavit           | Red wine       | 5.5 % | 1 year |\n| 71 | Premium(15€-30€) | Cavit           | Red wine       | 7 %   | 1 year |\n| 33 | Value(3€-10€)    | Cantina Toblino | Sparkling wine | 5.5 % | 1 year |\n| 69 | Value(3€-10€)    | Cavit           | Red wine       | 7 %   | 1 year |\n\n",
            "text/latex": "A data.frame: 6 × 5\n\\begin{tabular}{r|lllll}\n  & Price & Brand & Type.of.Wine & Percentage.of.Alcohol & Aging.time.of.Wine\\\\\n  & <fct> & <fct> & <fct> & <fct> & <fct>\\\\\n\\hline\n\t8 & Luxury(50€-100€) & Cavit           & Red wine       & 5.5 \\% & 1 year\\\\\n\t1 & Value(3€-10€)    & Cantina Toblino & Red wine       & 5.5 \\% & 1 year\\\\\n\t5 & Value(3€-10€)    & Cavit           & Red wine       & 5.5 \\% & 1 year\\\\\n\t71 & Premium(15€-30€) & Cavit           & Red wine       & 7 \\%   & 1 year\\\\\n\t33 & Value(3€-10€)    & Cantina Toblino & Sparkling wine & 5.5 \\% & 1 year\\\\\n\t69 & Value(3€-10€)    & Cavit           & Red wine       & 7 \\%   & 1 year\\\\\n\\end{tabular}\n",
            "text/plain": [
              "   Price            Brand           Type.of.Wine   Percentage.of.Alcohol\n",
              "8  Luxury(50€-100€) Cavit           Red wine       5.5 %                \n",
              "1  Value(3€-10€)    Cantina Toblino Red wine       5.5 %                \n",
              "5  Value(3€-10€)    Cavit           Red wine       5.5 %                \n",
              "71 Premium(15€-30€) Cavit           Red wine       7 %                  \n",
              "33 Value(3€-10€)    Cantina Toblino Sparkling wine 5.5 %                \n",
              "69 Value(3€-10€)    Cavit           Red wine       7 %                  \n",
              "   Aging.time.of.Wine\n",
              "8  1 year            \n",
              "1  1 year            \n",
              "5  1 year            \n",
              "71 1 year            \n",
              "33 1 year            \n",
              "69 1 year            "
            ]
          },
          "metadata": {}
        }
      ]
    },
    {
      "cell_type": "code",
      "source": [
        "predict.mnl(m1, new.data)"
      ],
      "metadata": {
        "colab": {
          "base_uri": "https://localhost:8080/",
          "height": 286
        },
        "id": "Ga4gKuv5lmne",
        "outputId": "f8e9a733-3b8a-4ec8-bb77-ba95d540bff3"
      },
      "execution_count": null,
      "outputs": [
        {
          "output_type": "display_data",
          "data": {
            "text/html": [
              "<table class=\"dataframe\">\n",
              "<caption>A data.frame: 6 × 6</caption>\n",
              "<thead>\n",
              "\t<tr><th></th><th scope=col>share</th><th scope=col>Price</th><th scope=col>Brand</th><th scope=col>Type.of.Wine</th><th scope=col>Percentage.of.Alcohol</th><th scope=col>Aging.time.of.Wine</th></tr>\n",
              "\t<tr><th></th><th scope=col>&lt;dbl&gt;</th><th scope=col>&lt;fct&gt;</th><th scope=col>&lt;fct&gt;</th><th scope=col>&lt;fct&gt;</th><th scope=col>&lt;fct&gt;</th><th scope=col>&lt;fct&gt;</th></tr>\n",
              "</thead>\n",
              "<tbody>\n",
              "\t<tr><th scope=row>8</th><td>0.36116806</td><td>Luxury(50€-100€)</td><td>Cavit          </td><td>Red wine      </td><td>5.5 %</td><td>1 year</td></tr>\n",
              "\t<tr><th scope=row>1</th><td>0.06105571</td><td>Value(3€-10€)   </td><td>Cantina Toblino</td><td>Red wine      </td><td>5.5 %</td><td>1 year</td></tr>\n",
              "\t<tr><th scope=row>5</th><td>0.08696920</td><td>Value(3€-10€)   </td><td>Cavit          </td><td>Red wine      </td><td>5.5 %</td><td>1 year</td></tr>\n",
              "\t<tr><th scope=row>71</th><td>0.30608669</td><td>Premium(15€-30€)</td><td>Cavit          </td><td>Red wine      </td><td>7 %  </td><td>1 year</td></tr>\n",
              "\t<tr><th scope=row>33</th><td>0.07590749</td><td>Value(3€-10€)   </td><td>Cantina Toblino</td><td>Sparkling wine</td><td>5.5 %</td><td>1 year</td></tr>\n",
              "\t<tr><th scope=row>69</th><td>0.10881286</td><td>Value(3€-10€)   </td><td>Cavit          </td><td>Red wine      </td><td>7 %  </td><td>1 year</td></tr>\n",
              "</tbody>\n",
              "</table>\n"
            ],
            "text/markdown": "\nA data.frame: 6 × 6\n\n| <!--/--> | share &lt;dbl&gt; | Price &lt;fct&gt; | Brand &lt;fct&gt; | Type.of.Wine &lt;fct&gt; | Percentage.of.Alcohol &lt;fct&gt; | Aging.time.of.Wine &lt;fct&gt; |\n|---|---|---|---|---|---|---|\n| 8 | 0.36116806 | Luxury(50€-100€) | Cavit           | Red wine       | 5.5 % | 1 year |\n| 1 | 0.06105571 | Value(3€-10€)    | Cantina Toblino | Red wine       | 5.5 % | 1 year |\n| 5 | 0.08696920 | Value(3€-10€)    | Cavit           | Red wine       | 5.5 % | 1 year |\n| 71 | 0.30608669 | Premium(15€-30€) | Cavit           | Red wine       | 7 %   | 1 year |\n| 33 | 0.07590749 | Value(3€-10€)    | Cantina Toblino | Sparkling wine | 5.5 % | 1 year |\n| 69 | 0.10881286 | Value(3€-10€)    | Cavit           | Red wine       | 7 %   | 1 year |\n\n",
            "text/latex": "A data.frame: 6 × 6\n\\begin{tabular}{r|llllll}\n  & share & Price & Brand & Type.of.Wine & Percentage.of.Alcohol & Aging.time.of.Wine\\\\\n  & <dbl> & <fct> & <fct> & <fct> & <fct> & <fct>\\\\\n\\hline\n\t8 & 0.36116806 & Luxury(50€-100€) & Cavit           & Red wine       & 5.5 \\% & 1 year\\\\\n\t1 & 0.06105571 & Value(3€-10€)    & Cantina Toblino & Red wine       & 5.5 \\% & 1 year\\\\\n\t5 & 0.08696920 & Value(3€-10€)    & Cavit           & Red wine       & 5.5 \\% & 1 year\\\\\n\t71 & 0.30608669 & Premium(15€-30€) & Cavit           & Red wine       & 7 \\%   & 1 year\\\\\n\t33 & 0.07590749 & Value(3€-10€)    & Cantina Toblino & Sparkling wine & 5.5 \\% & 1 year\\\\\n\t69 & 0.10881286 & Value(3€-10€)    & Cavit           & Red wine       & 7 \\%   & 1 year\\\\\n\\end{tabular}\n",
            "text/plain": [
              "   share      Price            Brand           Type.of.Wine  \n",
              "8  0.36116806 Luxury(50€-100€) Cavit           Red wine      \n",
              "1  0.06105571 Value(3€-10€)    Cantina Toblino Red wine      \n",
              "5  0.08696920 Value(3€-10€)    Cavit           Red wine      \n",
              "71 0.30608669 Premium(15€-30€) Cavit           Red wine      \n",
              "33 0.07590749 Value(3€-10€)    Cantina Toblino Sparkling wine\n",
              "69 0.10881286 Value(3€-10€)    Cavit           Red wine      \n",
              "   Percentage.of.Alcohol Aging.time.of.Wine\n",
              "8  5.5 %                 1 year            \n",
              "1  5.5 %                 1 year            \n",
              "5  5.5 %                 1 year            \n",
              "71 7 %                   1 year            \n",
              "33 5.5 %                 1 year            \n",
              "69 7 %                   1 year            "
            ]
          },
          "metadata": {}
        }
      ]
    },
    {
      "cell_type": "markdown",
      "source": [
        "## Sensitivity Plot:"
      ],
      "metadata": {
        "id": "iE-Kd5s6z7iF"
      }
    },
    {
      "cell_type": "markdown",
      "source": [
        "For Share Simulation we used row 8 as baseline design and row 1, 5, 71, 33, 69 as competitor designs.  \n",
        "Separating the two for sensitivity plot."
      ],
      "metadata": {
        "id": "o3MqxJ048zHQ"
      }
    },
    {
      "cell_type": "code",
      "source": [
        "base.data <- expand.grid(attrib)[c(8), ]\n",
        "\n",
        "competitor.data <- expand.grid(attrib)[c(1, 5, 71, 33, 69), ]"
      ],
      "metadata": {
        "id": "OavVuPAh8WIT"
      },
      "execution_count": null,
      "outputs": []
    },
    {
      "cell_type": "code",
      "source": [
        "# Share sensitivity\n",
        "sensitivity.mnl <- function(model, attrib, base.data, competitor.data) {\n",
        "  # Function for creating data for a share-sensitivity chart\n",
        "  # model: mlogit object returned by mlogit() function\n",
        "  # attrib: list of vectors with attribute levels to be used in sensitivity\n",
        "  # base.data: data frame containing baseline design of target product\n",
        "  # competitor.data: data frame contining design of competitive set\n",
        "  data <- rbind(base.data, competitor.data)\n",
        "  base.share <- predict.mnl(model, data)[1, 1]\n",
        "  share <- NULL\n",
        "  for (a in seq_along(attrib)) {\n",
        "    for (i in attrib[[a]]) {\n",
        "      data[1,] <- base.data\n",
        "      data[1,a] <- i\n",
        "      share <- c(share, predict.mnl(model, data)[1, 1])\n",
        "    }\n",
        "  }\n",
        "  data.frame(level=unlist(attrib), share=share, increase=share-base.share)\n",
        "}"
      ],
      "metadata": {
        "id": "kTrS5GIJzerL"
      },
      "execution_count": null,
      "outputs": []
    },
    {
      "cell_type": "markdown",
      "source": [
        "### Trade Off Table:"
      ],
      "metadata": {
        "id": "soB2ZvB_AoB0"
      }
    },
    {
      "cell_type": "code",
      "source": [
        "# trade off table gives a clearer picture of how the share would get affected \n",
        "# when attribues are varied from the base design.\n",
        "# baseline design : [Price4: Luxury, Brand2: Cavit, Type.of.Wine1:\tRed wine, \n",
        "#                Percentage.of.Alcohol1:\t5.5 %, Aging.time.of.Wine1:\t1 year]\n",
        "\n",
        "(tradeoff <- sensitivity.mnl(m1, attrib, base.data, competitor.data))"
      ],
      "metadata": {
        "colab": {
          "base_uri": "https://localhost:8080/",
          "height": 757
        },
        "id": "pAqPWAev9Skp",
        "outputId": "10a72f32-1e39-4fc3-c6dc-8808f57f43cd"
      },
      "execution_count": null,
      "outputs": [
        {
          "output_type": "display_data",
          "data": {
            "text/html": [
              "<table class=\"dataframe\">\n",
              "<caption>A data.frame: 21 × 3</caption>\n",
              "<thead>\n",
              "\t<tr><th></th><th scope=col>level</th><th scope=col>share</th><th scope=col>increase</th></tr>\n",
              "\t<tr><th></th><th scope=col>&lt;chr&gt;</th><th scope=col>&lt;dbl&gt;</th><th scope=col>&lt;dbl&gt;</th></tr>\n",
              "</thead>\n",
              "<tbody>\n",
              "\t<tr><th scope=row>Price1</th><td>Value(3€-10€)   </td><td>0.1198251</td><td>-0.241342953</td></tr>\n",
              "\t<tr><th scope=row>Price2</th><td>Popular(10€-15€)</td><td>0.3798287</td><td> 0.018660654</td></tr>\n",
              "\t<tr><th scope=row>Price3</th><td>Premium(15€-30€)</td><td>0.2769085</td><td>-0.084259543</td></tr>\n",
              "\t<tr><th scope=row>Price4</th><td>Luxury(50€-100€)</td><td>0.3611681</td><td> 0.000000000</td></tr>\n",
              "\t<tr><th scope=row>Brand1</th><td>Cantina Toblino </td><td>0.2841303</td><td>-0.077037788</td></tr>\n",
              "\t<tr><th scope=row>Brand2</th><td>Cavit           </td><td>0.3611681</td><td> 0.000000000</td></tr>\n",
              "\t<tr><th scope=row>Brand3</th><td>Ferrari         </td><td>0.4878428</td><td> 0.126674770</td></tr>\n",
              "\t<tr><th scope=row>Brand4</th><td>Mezzacorona     </td><td>0.4353377</td><td> 0.074169660</td></tr>\n",
              "\t<tr><th scope=row>Type.of.Wine1</th><td>Red wine        </td><td>0.3611681</td><td> 0.000000000</td></tr>\n",
              "\t<tr><th scope=row>Type.of.Wine2</th><td>Rose wine       </td><td>0.3422405</td><td>-0.018927513</td></tr>\n",
              "\t<tr><th scope=row>Type.of.Wine3</th><td>Sparkling wine  </td><td>0.4127595</td><td> 0.051591444</td></tr>\n",
              "\t<tr><th scope=row>Type.of.Wine4</th><td>White wine      </td><td>0.4177903</td><td> 0.056622244</td></tr>\n",
              "\t<tr><th scope=row>Percentage.of.Alcohol1</th><td>5.5 %           </td><td>0.3611681</td><td> 0.000000000</td></tr>\n",
              "\t<tr><th scope=row>Percentage.of.Alcohol2</th><td>7 %             </td><td>0.4142988</td><td> 0.053130696</td></tr>\n",
              "\t<tr><th scope=row>Percentage.of.Alcohol3</th><td>12 %            </td><td>0.4546373</td><td> 0.093469271</td></tr>\n",
              "\t<tr><th scope=row>Percentage.of.Alcohol4</th><td>18 %            </td><td>0.4355899</td><td> 0.074421858</td></tr>\n",
              "\t<tr><th scope=row>Aging.time.of.Wine1</th><td>1 year          </td><td>0.3611681</td><td> 0.000000000</td></tr>\n",
              "\t<tr><th scope=row>Aging.time.of.Wine2</th><td>2 years         </td><td>0.2674034</td><td>-0.093764638</td></tr>\n",
              "\t<tr><th scope=row>Aging.time.of.Wine3</th><td>3 years         </td><td>0.3725242</td><td> 0.011356166</td></tr>\n",
              "\t<tr><th scope=row>Aging.time.of.Wine4</th><td>4 years         </td><td>0.3100527</td><td>-0.051115328</td></tr>\n",
              "\t<tr><th scope=row>Aging.time.of.Wine5</th><td>5 years         </td><td>0.3554383</td><td>-0.005729786</td></tr>\n",
              "</tbody>\n",
              "</table>\n"
            ],
            "text/markdown": "\nA data.frame: 21 × 3\n\n| <!--/--> | level &lt;chr&gt; | share &lt;dbl&gt; | increase &lt;dbl&gt; |\n|---|---|---|---|\n| Price1 | Value(3€-10€)    | 0.1198251 | -0.241342953 |\n| Price2 | Popular(10€-15€) | 0.3798287 |  0.018660654 |\n| Price3 | Premium(15€-30€) | 0.2769085 | -0.084259543 |\n| Price4 | Luxury(50€-100€) | 0.3611681 |  0.000000000 |\n| Brand1 | Cantina Toblino  | 0.2841303 | -0.077037788 |\n| Brand2 | Cavit            | 0.3611681 |  0.000000000 |\n| Brand3 | Ferrari          | 0.4878428 |  0.126674770 |\n| Brand4 | Mezzacorona      | 0.4353377 |  0.074169660 |\n| Type.of.Wine1 | Red wine         | 0.3611681 |  0.000000000 |\n| Type.of.Wine2 | Rose wine        | 0.3422405 | -0.018927513 |\n| Type.of.Wine3 | Sparkling wine   | 0.4127595 |  0.051591444 |\n| Type.of.Wine4 | White wine       | 0.4177903 |  0.056622244 |\n| Percentage.of.Alcohol1 | 5.5 %            | 0.3611681 |  0.000000000 |\n| Percentage.of.Alcohol2 | 7 %              | 0.4142988 |  0.053130696 |\n| Percentage.of.Alcohol3 | 12 %             | 0.4546373 |  0.093469271 |\n| Percentage.of.Alcohol4 | 18 %             | 0.4355899 |  0.074421858 |\n| Aging.time.of.Wine1 | 1 year           | 0.3611681 |  0.000000000 |\n| Aging.time.of.Wine2 | 2 years          | 0.2674034 | -0.093764638 |\n| Aging.time.of.Wine3 | 3 years          | 0.3725242 |  0.011356166 |\n| Aging.time.of.Wine4 | 4 years          | 0.3100527 | -0.051115328 |\n| Aging.time.of.Wine5 | 5 years          | 0.3554383 | -0.005729786 |\n\n",
            "text/latex": "A data.frame: 21 × 3\n\\begin{tabular}{r|lll}\n  & level & share & increase\\\\\n  & <chr> & <dbl> & <dbl>\\\\\n\\hline\n\tPrice1 & Value(3€-10€)    & 0.1198251 & -0.241342953\\\\\n\tPrice2 & Popular(10€-15€) & 0.3798287 &  0.018660654\\\\\n\tPrice3 & Premium(15€-30€) & 0.2769085 & -0.084259543\\\\\n\tPrice4 & Luxury(50€-100€) & 0.3611681 &  0.000000000\\\\\n\tBrand1 & Cantina Toblino  & 0.2841303 & -0.077037788\\\\\n\tBrand2 & Cavit            & 0.3611681 &  0.000000000\\\\\n\tBrand3 & Ferrari          & 0.4878428 &  0.126674770\\\\\n\tBrand4 & Mezzacorona      & 0.4353377 &  0.074169660\\\\\n\tType.of.Wine1 & Red wine         & 0.3611681 &  0.000000000\\\\\n\tType.of.Wine2 & Rose wine        & 0.3422405 & -0.018927513\\\\\n\tType.of.Wine3 & Sparkling wine   & 0.4127595 &  0.051591444\\\\\n\tType.of.Wine4 & White wine       & 0.4177903 &  0.056622244\\\\\n\tPercentage.of.Alcohol1 & 5.5 \\%            & 0.3611681 &  0.000000000\\\\\n\tPercentage.of.Alcohol2 & 7 \\%              & 0.4142988 &  0.053130696\\\\\n\tPercentage.of.Alcohol3 & 12 \\%             & 0.4546373 &  0.093469271\\\\\n\tPercentage.of.Alcohol4 & 18 \\%             & 0.4355899 &  0.074421858\\\\\n\tAging.time.of.Wine1 & 1 year           & 0.3611681 &  0.000000000\\\\\n\tAging.time.of.Wine2 & 2 years          & 0.2674034 & -0.093764638\\\\\n\tAging.time.of.Wine3 & 3 years          & 0.3725242 &  0.011356166\\\\\n\tAging.time.of.Wine4 & 4 years          & 0.3100527 & -0.051115328\\\\\n\tAging.time.of.Wine5 & 5 years          & 0.3554383 & -0.005729786\\\\\n\\end{tabular}\n",
            "text/plain": [
              "                       level            share     increase    \n",
              "Price1                 Value(3€-10€)    0.1198251 -0.241342953\n",
              "Price2                 Popular(10€-15€) 0.3798287  0.018660654\n",
              "Price3                 Premium(15€-30€) 0.2769085 -0.084259543\n",
              "Price4                 Luxury(50€-100€) 0.3611681  0.000000000\n",
              "Brand1                 Cantina Toblino  0.2841303 -0.077037788\n",
              "Brand2                 Cavit            0.3611681  0.000000000\n",
              "Brand3                 Ferrari          0.4878428  0.126674770\n",
              "Brand4                 Mezzacorona      0.4353377  0.074169660\n",
              "Type.of.Wine1          Red wine         0.3611681  0.000000000\n",
              "Type.of.Wine2          Rose wine        0.3422405 -0.018927513\n",
              "Type.of.Wine3          Sparkling wine   0.4127595  0.051591444\n",
              "Type.of.Wine4          White wine       0.4177903  0.056622244\n",
              "Percentage.of.Alcohol1 5.5 %            0.3611681  0.000000000\n",
              "Percentage.of.Alcohol2 7 %              0.4142988  0.053130696\n",
              "Percentage.of.Alcohol3 12 %             0.4546373  0.093469271\n",
              "Percentage.of.Alcohol4 18 %             0.4355899  0.074421858\n",
              "Aging.time.of.Wine1    1 year           0.3611681  0.000000000\n",
              "Aging.time.of.Wine2    2 years          0.2674034 -0.093764638\n",
              "Aging.time.of.Wine3    3 years          0.3725242  0.011356166\n",
              "Aging.time.of.Wine4    4 years          0.3100527 -0.051115328\n",
              "Aging.time.of.Wine5    5 years          0.3554383 -0.005729786"
            ]
          },
          "metadata": {}
        }
      ]
    },
    {
      "cell_type": "markdown",
      "source": [
        "Explanation of the trade off table goes here ...  \n",
        "\n",
        "x ---------  x  --------- x"
      ],
      "metadata": {
        "id": "JsyRDJNP-Rwn"
      }
    },
    {
      "cell_type": "markdown",
      "source": [
        "### Barplot to show sensitivity to varying combinations:"
      ],
      "metadata": {
        "id": "eaZVpNVZ_Kz2"
      }
    },
    {
      "cell_type": "code",
      "source": [
        "# Sensitivity plot using the tradeoff table\n",
        "\n",
        "barplot(tradeoff$increase, horiz=FALSE, names.arg=tradeoff$level,\n",
        "        ylab=\"Change in Share for Baseline Product\")"
      ],
      "metadata": {
        "colab": {
          "base_uri": "https://localhost:8080/",
          "height": 437
        },
        "id": "B4oa61qU-ZlN",
        "outputId": "a084e63d-7606-40ff-ded9-1b032bd886e5"
      },
      "execution_count": null,
      "outputs": [
        {
          "output_type": "display_data",
          "data": {
            "text/plain": [
              "plot without title"
            ],
            "image/png": "[encoded data removed]"
          },
          "metadata": {
            "image/png": {
              "width": 420,
              "height": 420
            }
          }
        }
      ]
    },
    {
      "cell_type": "markdown",
      "source": [
        "Explanation of Sensitivity plot goes here....  "
      ],
      "metadata": {
        "id": "Brs5NrhF_cFJ"
      }
    },
    {
      "cell_type": "markdown",
      "source": [
        "# Fitting a choice model considering Customer Heterogenity:"
      ],
      "metadata": {
        "id": "icW3Y3YBAZWC"
      }
    },
    {
      "cell_type": "markdown",
      "source": [
        "Customer Herterogenity:  \n",
        "Different people have different preferences.  Hence individual level coefficients can it the data better than sample level models and also with better accuracy in prediction as compared to sample level models.  \n",
        "\n",
        "\n",
        "\\\\\n",
        "\n",
        "In this segment we will cover 3 aspects.  \n",
        "diversity of preference | customer targetting | Segmentation  \n",
        "\n",
        "\n",
        "\n"
      ],
      "metadata": {
        "id": "xwuSFKIBBRQt"
      }
    },
    {
      "cell_type": "markdown",
      "source": [
        "### Correlated Random Parameters Vs Independent Random Parameters:"
      ],
      "metadata": {
        "id": "iZRHg6NlGHip"
      }
    },
    {
      "cell_type": "markdown",
      "source": [
        "We can either allow the random parameters to be correlated or independant.  \n",
        "For this first run, we assume that we do not want random parameters to be correlated `(correlation=FALSE)`"
      ],
      "metadata": {
        "id": "KT7hsyecF8I1"
      }
    },
    {
      "cell_type": "code",
      "source": [
        "m1.rpar <- rep(\"n\", length=length(m1$coef))\n",
        "names(m1.rpar) <- names(m1$coef)\n",
        "m1.rpar"
      ],
      "metadata": {
        "colab": {
          "base_uri": "https://localhost:8080/",
          "height": 69
        },
        "id": "G51lbTwgAXmh",
        "outputId": "e1f3d732-b111-459c-d09c-f4030309025a"
      },
      "execution_count": null,
      "outputs": [
        {
          "output_type": "display_data",
          "data": {
            "text/html": [
              "<style>\n",
              ".dl-inline {width: auto; margin:0; padding: 0}\n",
              ".dl-inline>dt, .dl-inline>dd {float: none; width: auto; display: inline-block}\n",
              ".dl-inline>dt::after {content: \":\\0020\"; padding-right: .5ex}\n",
              ".dl-inline>dt:not(:first-of-type) {padding-left: .5ex}\n",
              "</style><dl class=dl-inline><dt>PricePopular(10€-15€)</dt><dd>'n'</dd><dt>PricePremium(15€-30€)</dt><dd>'n'</dd><dt>PriceValue(3€-10€)</dt><dd>'n'</dd><dt>BrandCavit</dt><dd>'n'</dd><dt>BrandFerrari</dt><dd>'n'</dd><dt>BrandMezzacorona</dt><dd>'n'</dd><dt>Type.of.WineRose wine</dt><dd>'n'</dd><dt>Type.of.WineSparkling wine</dt><dd>'n'</dd><dt>Type.of.WineWhite wine</dt><dd>'n'</dd><dt>Percentage.of.Alcohol18 %</dt><dd>'n'</dd><dt>Percentage.of.Alcohol5.5 %</dt><dd>'n'</dd><dt>Percentage.of.Alcohol7 %</dt><dd>'n'</dd><dt>Aging.time.of.Wine2 years</dt><dd>'n'</dd><dt>Aging.time.of.Wine3 years</dt><dd>'n'</dd><dt>Aging.time.of.Wine4 years</dt><dd>'n'</dd><dt>Aging.time.of.Wine5 years</dt><dd>'n'</dd></dl>\n"
            ],
            "text/markdown": "PricePopular(10€-15€)\n:   'n'PricePremium(15€-30€)\n:   'n'PriceValue(3€-10€)\n:   'n'BrandCavit\n:   'n'BrandFerrari\n:   'n'BrandMezzacorona\n:   'n'Type.of.WineRose wine\n:   'n'Type.of.WineSparkling wine\n:   'n'Type.of.WineWhite wine\n:   'n'Percentage.of.Alcohol18 %\n:   'n'Percentage.of.Alcohol5.5 %\n:   'n'Percentage.of.Alcohol7 %\n:   'n'Aging.time.of.Wine2 years\n:   'n'Aging.time.of.Wine3 years\n:   'n'Aging.time.of.Wine4 years\n:   'n'Aging.time.of.Wine5 years\n:   'n'\n\n",
            "text/latex": "\\begin{description*}\n\\item[PricePopular(10€-15€)] 'n'\n\\item[PricePremium(15€-30€)] 'n'\n\\item[PriceValue(3€-10€)] 'n'\n\\item[BrandCavit] 'n'\n\\item[BrandFerrari] 'n'\n\\item[BrandMezzacorona] 'n'\n\\item[Type.of.WineRose wine] 'n'\n\\item[Type.of.WineSparkling wine] 'n'\n\\item[Type.of.WineWhite wine] 'n'\n\\item[Percentage.of.Alcohol18 \\textbackslash{}\\%] 'n'\n\\item[Percentage.of.Alcohol5.5 \\textbackslash{}\\%] 'n'\n\\item[Percentage.of.Alcohol7 \\textbackslash{}\\%] 'n'\n\\item[Aging.time.of.Wine2 years] 'n'\n\\item[Aging.time.of.Wine3 years] 'n'\n\\item[Aging.time.of.Wine4 years] 'n'\n\\item[Aging.time.of.Wine5 years] 'n'\n\\end{description*}\n",
            "text/plain": [
              "     PricePopular(10€-15€)      PricePremium(15€-30€) \n",
              "                       \"n\"                        \"n\" \n",
              "        PriceValue(3€-10€)                 BrandCavit \n",
              "                       \"n\"                        \"n\" \n",
              "              BrandFerrari           BrandMezzacorona \n",
              "                       \"n\"                        \"n\" \n",
              "     Type.of.WineRose wine Type.of.WineSparkling wine \n",
              "                       \"n\"                        \"n\" \n",
              "    Type.of.WineWhite wine  Percentage.of.Alcohol18 % \n",
              "                       \"n\"                        \"n\" \n",
              "Percentage.of.Alcohol5.5 %   Percentage.of.Alcohol7 % \n",
              "                       \"n\"                        \"n\" \n",
              " Aging.time.of.Wine2 years  Aging.time.of.Wine3 years \n",
              "                       \"n\"                        \"n\" \n",
              " Aging.time.of.Wine4 years  Aging.time.of.Wine5 years \n",
              "                       \"n\"                        \"n\" "
            ]
          },
          "metadata": {}
        }
      ]
    },
    {
      "cell_type": "code",
      "source": [
        "m1.hier <- mlogit(Choice ~ 0 + Price\t+ Brand\t+ Type.of.Wine\t+Percentage.of.Alcohol\t+Aging.time.of.Wine, \n",
        "                  data = cbc.mlogit, \n",
        "                  panel=TRUE, rpar = m1.rpar, correlation = FALSE)\n",
        "summary(m1.hier)"
      ],
      "metadata": {
        "colab": {
          "base_uri": "https://localhost:8080/",
          "height": 1000
        },
        "id": "kSI0PraPFFrF",
        "outputId": "f92b3b29-e6c9-408f-98ef-5694c500e164"
      },
      "execution_count": null,
      "outputs": [
        {
          "output_type": "display_data",
          "data": {
            "text/plain": [
              "\n",
              "Call:\n",
              "mlogit(formula = Choice ~ 0 + Price + Brand + Type.of.Wine + \n",
              "    Percentage.of.Alcohol + Aging.time.of.Wine, data = cbc.mlogit, \n",
              "    rpar = m1.rpar, correlation = FALSE, panel = TRUE)\n",
              "\n",
              "Frequencies of alternatives:choice\n",
              "      1       2       3       4 \n",
              "0.20476 0.26667 0.22381 0.30476 \n",
              "\n",
              "bfgs method\n",
              "34 iterations, 0h:0m:3s \n",
              "g'(-H)^-1g = 4.87E-07 \n",
              "gradient close to zero \n",
              "\n",
              "Coefficients :\n",
              "                               Estimate Std. Error z-value  Pr(>|z|)    \n",
              "PricePopular(10€-15€)          2.066206   0.507813  4.0688 4.725e-05 ***\n",
              "PricePremium(15€-30€)          1.383331   0.474098  2.9178 0.0035250 ** \n",
              "PriceValue(3€-10€)             1.598766   0.533355  2.9976 0.0027215 ** \n",
              "BrandCavit                     0.565028   0.423147  1.3353 0.1817780    \n",
              "BrandFerrari                   1.422795   0.435506  3.2670 0.0010870 ** \n",
              "BrandMezzacorona               0.925398   0.429523  2.1545 0.0312026 *  \n",
              "Type.of.WineRose wine          0.027485   0.434740  0.0632 0.9495898    \n",
              "Type.of.WineSparkling wine     0.294434   0.411843  0.7149 0.4746597    \n",
              "Type.of.WineWhite wine         0.389964   0.350598  1.1123 0.2660169    \n",
              "Percentage.of.Alcohol18 %      0.174192   0.442555  0.3936 0.6938722    \n",
              "Percentage.of.Alcohol5.5 %     0.402435   0.387824  1.0377 0.2994221    \n",
              "Percentage.of.Alcohol7 %       0.280964   0.430537  0.6526 0.5140202    \n",
              "Aging.time.of.Wine2 years     -0.258031   0.482987 -0.5342 0.5931762    \n",
              "Aging.time.of.Wine3 years      0.108704   0.397334  0.2736 0.7844053    \n",
              "Aging.time.of.Wine4 years     -0.370008   0.405894 -0.9116 0.3619864    \n",
              "Aging.time.of.Wine5 years     -0.208951   0.449284 -0.4651 0.6418770    \n",
              "sd.PricePopular(10€-15€)       1.822012   0.436281  4.1762 2.964e-05 ***\n",
              "sd.PricePremium(15€-30€)       1.286740   0.325470  3.9535 7.702e-05 ***\n",
              "sd.PriceValue(3€-10€)          1.625442   0.562105  2.8917 0.0038315 ** \n",
              "sd.BrandCavit                 -0.274731   0.412973 -0.6653 0.5058903    \n",
              "sd.BrandFerrari                1.175362   0.466189  2.5212 0.0116950 *  \n",
              "sd.BrandMezzacorona            0.760893   0.545387  1.3951 0.1629726    \n",
              "sd.Type.of.WineRose wine       0.568787   0.548433  1.0371 0.2996837    \n",
              "sd.Type.of.WineSparkling wine  1.497187   0.504948  2.9650 0.0030265 ** \n",
              "sd.Type.of.WineWhite wine     -0.023321   0.316193 -0.0738 0.9412041    \n",
              "sd.Percentage.of.Alcohol18 %   1.475199   0.383312  3.8486 0.0001188 ***\n",
              "sd.Percentage.of.Alcohol5.5 %  1.838691   0.525430  3.4994 0.0004663 ***\n",
              "sd.Percentage.of.Alcohol7 %    1.354252   0.568486  2.3822 0.0172092 *  \n",
              "sd.Aging.time.of.Wine2 years   0.504445   0.369534  1.3651 0.1722261    \n",
              "sd.Aging.time.of.Wine3 years  -0.376999   0.368555 -1.0229 0.3063508    \n",
              "sd.Aging.time.of.Wine4 years   0.269475   0.464019  0.5807 0.5614152    \n",
              "sd.Aging.time.of.Wine5 years  -0.257163   0.421165 -0.6106 0.5414659    \n",
              "---\n",
              "Signif. codes:  0 ‘***’ 0.001 ‘**’ 0.01 ‘*’ 0.05 ‘.’ 0.1 ‘ ’ 1\n",
              "\n",
              "Log-Likelihood: -233.3\n",
              "\n",
              "random coefficients\n",
              "                           Min.    1st Qu.      Median        Mean     3rd Qu.\n",
              "PricePopular(10€-15€)      -Inf  0.8372783  2.06620645  2.06620645  3.29513459\n",
              "PricePremium(15€-30€)      -Inf  0.5154378  1.38333062  1.38333062  2.25122347\n",
              "PriceValue(3€-10€)         -Inf  0.5024217  1.59876595  1.59876595  2.69511017\n",
              "BrandCavit                 -Inf  0.3797253  0.56502830  0.56502830  0.75033129\n",
              "BrandFerrari               -Inf  0.6300255  1.42279496  1.42279496  2.21556443\n",
              "BrandMezzacorona           -Inf  0.4121833  0.92539804  0.92539804  1.43861281\n",
              "Type.of.WineRose wine      -Inf -0.3561559  0.02748508  0.02748508  0.41112605\n",
              "Type.of.WineSparkling wine -Inf -0.7154031  0.29443404  0.29443404  1.30427122\n",
              "Type.of.WineWhite wine     -Inf  0.3742341  0.38996412  0.38996412  0.40569412\n",
              "Percentage.of.Alcohol18 %  -Inf -0.8208142  0.17419230  0.17419230  1.16919877\n",
              "Percentage.of.Alcohol5.5 % -Inf -0.8377436  0.40243490  0.40243490  1.64261338\n",
              "Percentage.of.Alcohol7 %   -Inf -0.6324646  0.28096436  0.28096436  1.19439330\n",
              "Aging.time.of.Wine2 years  -Inf -0.5982737 -0.25803055 -0.25803055  0.08221259\n",
              "Aging.time.of.Wine3 years  -Inf -0.1455778  0.10870380  0.10870380  0.36298543\n",
              "Aging.time.of.Wine4 years  -Inf -0.5517659 -0.37000777 -0.37000777 -0.18824966\n",
              "Aging.time.of.Wine5 years  -Inf -0.3824045 -0.20895105 -0.20895105 -0.03549757\n",
              "                           Max.\n",
              "PricePopular(10€-15€)       Inf\n",
              "PricePremium(15€-30€)       Inf\n",
              "PriceValue(3€-10€)          Inf\n",
              "BrandCavit                  Inf\n",
              "BrandFerrari                Inf\n",
              "BrandMezzacorona            Inf\n",
              "Type.of.WineRose wine       Inf\n",
              "Type.of.WineSparkling wine  Inf\n",
              "Type.of.WineWhite wine      Inf\n",
              "Percentage.of.Alcohol18 %   Inf\n",
              "Percentage.of.Alcohol5.5 %  Inf\n",
              "Percentage.of.Alcohol7 %    Inf\n",
              "Aging.time.of.Wine2 years   Inf\n",
              "Aging.time.of.Wine3 years   Inf\n",
              "Aging.time.of.Wine4 years   Inf\n",
              "Aging.time.of.Wine5 years   Inf"
            ]
          },
          "metadata": {}
        }
      ]
    },
    {
      "cell_type": "code",
      "source": [
        "stdev(m1.hier)"
      ],
      "metadata": {
        "colab": {
          "base_uri": "https://localhost:8080/",
          "height": 104
        },
        "id": "faLbodvJFJpD",
        "outputId": "6496c6f6-f745-421f-ac94-5a5d39520a9f"
      },
      "execution_count": null,
      "outputs": [
        {
          "output_type": "display_data",
          "data": {
            "text/html": [
              "<style>\n",
              ".dl-inline {width: auto; margin:0; padding: 0}\n",
              ".dl-inline>dt, .dl-inline>dd {float: none; width: auto; display: inline-block}\n",
              ".dl-inline>dt::after {content: \":\\0020\"; padding-right: .5ex}\n",
              ".dl-inline>dt:not(:first-of-type) {padding-left: .5ex}\n",
              "</style><dl class=dl-inline><dt>PricePopular(10€-15€)</dt><dd>1.82201157936939</dd><dt>PricePremium(15€-30€)</dt><dd>1.28673985388142</dd><dt>PriceValue(3€-10€)</dt><dd>1.62544236807529</dd><dt>BrandCavit</dt><dd>0.274730637767061</dd><dt>BrandFerrari</dt><dd>1.17536177888717</dd><dt>BrandMezzacorona</dt><dd>0.760893360885174</dd><dt>Type.of.WineRose wine</dt><dd>0.568786955486092</dd><dt>Type.of.WineSparkling wine</dt><dd>1.49718684219553</dd><dt>Type.of.WineWhite wine</dt><dd>0.0233213458489828</dd><dt>Percentage.of.Alcohol18 %</dt><dd>1.47519880222716</dd><dt>Percentage.of.Alcohol5.5 %</dt><dd>1.83869136418495</dd><dt>Percentage.of.Alcohol7 %</dt><dd>1.35425177291477</dd><dt>Aging.time.of.Wine2 years</dt><dd>0.504445224892982</dd><dt>Aging.time.of.Wine3 years</dt><dd>0.376998504214454</dd><dt>Aging.time.of.Wine4 years</dt><dd>0.269474984818637</dd><dt>Aging.time.of.Wine5 years</dt><dd>0.257162510980972</dd></dl>\n"
            ],
            "text/markdown": "PricePopular(10€-15€)\n:   1.82201157936939PricePremium(15€-30€)\n:   1.28673985388142PriceValue(3€-10€)\n:   1.62544236807529BrandCavit\n:   0.274730637767061BrandFerrari\n:   1.17536177888717BrandMezzacorona\n:   0.760893360885174Type.of.WineRose wine\n:   0.568786955486092Type.of.WineSparkling wine\n:   1.49718684219553Type.of.WineWhite wine\n:   0.0233213458489828Percentage.of.Alcohol18 %\n:   1.47519880222716Percentage.of.Alcohol5.5 %\n:   1.83869136418495Percentage.of.Alcohol7 %\n:   1.35425177291477Aging.time.of.Wine2 years\n:   0.504445224892982Aging.time.of.Wine3 years\n:   0.376998504214454Aging.time.of.Wine4 years\n:   0.269474984818637Aging.time.of.Wine5 years\n:   0.257162510980972\n\n",
            "text/latex": "\\begin{description*}\n\\item[PricePopular(10€-15€)] 1.82201157936939\n\\item[PricePremium(15€-30€)] 1.28673985388142\n\\item[PriceValue(3€-10€)] 1.62544236807529\n\\item[BrandCavit] 0.274730637767061\n\\item[BrandFerrari] 1.17536177888717\n\\item[BrandMezzacorona] 0.760893360885174\n\\item[Type.of.WineRose wine] 0.568786955486092\n\\item[Type.of.WineSparkling wine] 1.49718684219553\n\\item[Type.of.WineWhite wine] 0.0233213458489828\n\\item[Percentage.of.Alcohol18 \\textbackslash{}\\%] 1.47519880222716\n\\item[Percentage.of.Alcohol5.5 \\textbackslash{}\\%] 1.83869136418495\n\\item[Percentage.of.Alcohol7 \\textbackslash{}\\%] 1.35425177291477\n\\item[Aging.time.of.Wine2 years] 0.504445224892982\n\\item[Aging.time.of.Wine3 years] 0.376998504214454\n\\item[Aging.time.of.Wine4 years] 0.269474984818637\n\\item[Aging.time.of.Wine5 years] 0.257162510980972\n\\end{description*}\n",
            "text/plain": [
              "     PricePopular(10€-15€)      PricePremium(15€-30€) \n",
              "                1.82201158                 1.28673985 \n",
              "        PriceValue(3€-10€)                 BrandCavit \n",
              "                1.62544237                 0.27473064 \n",
              "              BrandFerrari           BrandMezzacorona \n",
              "                1.17536178                 0.76089336 \n",
              "     Type.of.WineRose wine Type.of.WineSparkling wine \n",
              "                0.56878696                 1.49718684 \n",
              "    Type.of.WineWhite wine  Percentage.of.Alcohol18 % \n",
              "                0.02332135                 1.47519880 \n",
              "Percentage.of.Alcohol5.5 %   Percentage.of.Alcohol7 % \n",
              "                1.83869136                 1.35425177 \n",
              " Aging.time.of.Wine2 years  Aging.time.of.Wine3 years \n",
              "                0.50444522                 0.37699850 \n",
              " Aging.time.of.Wine4 years  Aging.time.of.Wine5 years \n",
              "                0.26947498                 0.25716251 "
            ]
          },
          "metadata": {}
        }
      ]
    },
    {
      "cell_type": "markdown",
      "source": [
        "With correlation TRUE we are facing error."
      ],
      "metadata": {
        "id": "UemBYQ6XoFDA"
      }
    },
    {
      "cell_type": "code",
      "source": [
        "# m2.hier <- update(m1.hier, correlation = TRUE)\n",
        "# summary(m2.hier)\n",
        "\n",
        "# With this we get an error as:"
      ],
      "metadata": {
        "id": "R3Eu6_CboPfp"
      },
      "execution_count": null,
      "outputs": []
    },
    {
      "cell_type": "markdown",
      "source": [
        "\n",
        "```\n",
        "Error in solve.default(-object$hessian[selcoef, selcoef]): system is computationally singular: reciprocal condition number = 1.76749e-20\n",
        "Traceback:\n",
        "\n",
        "1. summary(m2.hier)\n",
        "2. summary.mlogit(m2.hier)\n",
        "3. diag(vcov(object))\n",
        "4. vcov(object)\n",
        "5. vcov.mlogit(object)\n",
        "6. solve(-object$hessian[selcoef, selcoef])\n",
        "7. solve.default(-object$hessian[selcoef, selcoef])\n",
        "```\n",
        "\n"
      ],
      "metadata": {
        "id": "iq_lWJLso5dh"
      }
    },
    {
      "cell_type": "markdown",
      "source": [
        "**This error** means our design matrix is not invertible and therefore \n",
        "can't be used to develop a regression model. This results from linearly dependent columns, i.e. strongly correlated variables. Examine the pairwise covariance (or correlation) of our variables to investigate if there are any variables that can potentially be removed. We're looking for covariances (or correlations) >> 0. Alternatively, we can probably automate this variable selection by using a forward stepwise regression.\n",
        "\n",
        "This can also result from having more variables than observations, in which case our design matrix is probably not full rank. This is a bit trickier to fix, but there are ways. I believe lasso regression is supposed to work well when the data is \"wider\" than it is \"long.\""
      ],
      "metadata": {
        "id": "8NzCixN3ajaN"
      }
    },
    {
      "cell_type": "markdown",
      "source": [
        "One way to fix this error is to manually removing highly correlated (or identical) variables. To find highly correlated variable we run Chi Square tests."
      ],
      "metadata": {
        "id": "7OuWx2SUpDN9"
      }
    },
    {
      "cell_type": "code",
      "source": [
        "# in order to find correlaton we need to build the contingency table or frequency count table \n",
        "table(cbc.mlogit$Brand, cbc.mlogit$Type.of.Wine) "
      ],
      "metadata": {
        "id": "BBrgNg5-Ge7T",
        "colab": {
          "base_uri": "https://localhost:8080/",
          "height": 121
        },
        "outputId": "e3352a28-9d81-430f-cfd8-2589b3a688c0"
      },
      "execution_count": null,
      "outputs": [
        {
          "output_type": "display_data",
          "data": {
            "text/plain": [
              "                 \n",
              "                  Red wine Rose wine Sparkling wine White wine\n",
              "  Cantina Toblino       62        50             70         49\n",
              "  Cavit                 43        44             52         64\n",
              "  Ferrari               48        59             59         47\n",
              "  Mezzacorona           46        41             53         53"
            ]
          },
          "metadata": {}
        }
      ]
    },
    {
      "cell_type": "code",
      "source": [
        "# Applying chi-square test to check correlation among two nominal columns.\n",
        "\n",
        "# H0: The two variables are independent.\n",
        "# H1: The two variables relate to each other.\n",
        "\n",
        "# We set `correct=FALSE` to turn off Yates’ continuity correction.\n",
        "\n",
        "chisq.test(cbc.mlogit$Brand, cbc.mlogit$Type.of.Wine,correct=FALSE) "
      ],
      "metadata": {
        "colab": {
          "base_uri": "https://localhost:8080/",
          "height": 104
        },
        "id": "PalG2fzsURoj",
        "outputId": "b66f914d-fa21-478f-d885-8f5effa4fb31"
      },
      "execution_count": null,
      "outputs": [
        {
          "output_type": "display_data",
          "data": {
            "text/plain": [
              "\n",
              "\tPearson's Chi-squared test\n",
              "\n",
              "data:  cbc.mlogit$Brand and cbc.mlogit$Type.of.Wine\n",
              "X-squared = 10.992, df = 9, p-value = 0.2763\n"
            ]
          },
          "metadata": {}
        }
      ]
    },
    {
      "cell_type": "code",
      "source": [
        "chisq.test(cbc.mlogit$Brand, cbc.mlogit$Percentage.of.Alcohol,correct=FALSE)"
      ],
      "metadata": {
        "colab": {
          "base_uri": "https://localhost:8080/",
          "height": 104
        },
        "id": "3XvVJvrCafdE",
        "outputId": "ba4f5000-b285-4b3e-ee74-5dc265838418"
      },
      "execution_count": null,
      "outputs": [
        {
          "output_type": "display_data",
          "data": {
            "text/plain": [
              "\n",
              "\tPearson's Chi-squared test\n",
              "\n",
              "data:  cbc.mlogit$Brand and cbc.mlogit$Percentage.of.Alcohol\n",
              "X-squared = 17.273, df = 9, p-value = 0.04461\n"
            ]
          },
          "metadata": {}
        }
      ]
    },
    {
      "cell_type": "markdown",
      "source": [
        "The column Brand and Percentage of Alcohol has dependece. (as p value is < 0.05)"
      ],
      "metadata": {
        "id": "QZO969bkcdgu"
      }
    },
    {
      "cell_type": "code",
      "source": [
        "chisq.test(cbc.mlogit$Brand, cbc.mlogit$Aging.time.of.Wine,correct=FALSE)"
      ],
      "metadata": {
        "colab": {
          "base_uri": "https://localhost:8080/",
          "height": 104
        },
        "id": "U-Xxj78ccczp",
        "outputId": "3ea0aa2e-44ab-4512-cbbf-bdf558ac62d2"
      },
      "execution_count": null,
      "outputs": [
        {
          "output_type": "display_data",
          "data": {
            "text/plain": [
              "\n",
              "\tPearson's Chi-squared test\n",
              "\n",
              "data:  cbc.mlogit$Brand and cbc.mlogit$Aging.time.of.Wine\n",
              "X-squared = 22.992, df = 12, p-value = 0.02779\n"
            ]
          },
          "metadata": {}
        }
      ]
    },
    {
      "cell_type": "markdown",
      "source": [
        "There exists dependence."
      ],
      "metadata": {
        "id": "5mxaguN0dKcD"
      }
    },
    {
      "cell_type": "code",
      "source": [
        "chisq.test(cbc.mlogit$Brand, cbc.mlogit$Type.of.Wine,correct=FALSE)"
      ],
      "metadata": {
        "colab": {
          "base_uri": "https://localhost:8080/",
          "height": 104
        },
        "id": "dV91EbwidDrJ",
        "outputId": "50958c74-df02-4232-e142-ab98f1588045"
      },
      "execution_count": null,
      "outputs": [
        {
          "output_type": "display_data",
          "data": {
            "text/plain": [
              "\n",
              "\tPearson's Chi-squared test\n",
              "\n",
              "data:  cbc.mlogit$Brand and cbc.mlogit$Type.of.Wine\n",
              "X-squared = 10.992, df = 9, p-value = 0.2763\n"
            ]
          },
          "metadata": {}
        }
      ]
    },
    {
      "cell_type": "code",
      "source": [
        "chisq.test(cbc.mlogit$Brand, cbc.mlogit$Price,correct=FALSE)"
      ],
      "metadata": {
        "colab": {
          "base_uri": "https://localhost:8080/",
          "height": 104
        },
        "id": "gSMuAOe9dNZB",
        "outputId": "249c5371-efc7-4493-c5eb-bebf54a0a2a5"
      },
      "execution_count": null,
      "outputs": [
        {
          "output_type": "display_data",
          "data": {
            "text/plain": [
              "\n",
              "\tPearson's Chi-squared test\n",
              "\n",
              "data:  cbc.mlogit$Brand and cbc.mlogit$Price\n",
              "X-squared = 10.266, df = 9, p-value = 0.3294\n"
            ]
          },
          "metadata": {}
        }
      ]
    },
    {
      "cell_type": "code",
      "source": [
        "# So brand, age and percentage are highly correlated.\n",
        "\n",
        "# We will try the model without Age and Percentage now:\n",
        "\n",
        "m2.hier <- mlogit(Choice ~ 0 + Price\t+ Brand\t+ Type.of.Wine, \n",
        "                  data = cbc.mlogit, \n",
        "                  panel=TRUE, rpar = c(\"PricePopular(10€-15€)\"= 'n',\n",
        "\"PricePremium(15€-30€)\"=  'n',\n",
        "\"PriceValue(3€-10€)\"= 'n',\n",
        "\"BrandCavit\"= 'n',\n",
        "\"BrandFerrari\"= 'n',\n",
        "\"BrandMezzacorona\"= 'n',\n",
        "\"Type.of.WineRose wine\"= 'n',\n",
        "\"Type.of.WineSparkling wine\"= 'n',\n",
        "\"Type.of.WineWhite wine\"= 'n'), correlation = TRUE)\n",
        "summary(m2.hier)"
      ],
      "metadata": {
        "colab": {
          "base_uri": "https://localhost:8080/",
          "height": 1000
        },
        "id": "dgELIzX4pmqC",
        "outputId": "9d31e6c3-9615-45b3-e158-2d63da9183c3"
      },
      "execution_count": null,
      "outputs": [
        {
          "output_type": "display_data",
          "data": {
            "text/plain": [
              "\n",
              "Call:\n",
              "mlogit(formula = Choice ~ 0 + Price + Brand + Type.of.Wine, data = cbc.mlogit, \n",
              "    rpar = c(`PricePopular(10€-15€)` = \"n\", `PricePremium(15€-30€)` = \"n\", \n",
              "        `PriceValue(3€-10€)` = \"n\", BrandCavit = \"n\", BrandFerrari = \"n\", \n",
              "        BrandMezzacorona = \"n\", `Type.of.WineRose wine` = \"n\", \n",
              "        `Type.of.WineSparkling wine` = \"n\", `Type.of.WineWhite wine` = \"n\"), \n",
              "    correlation = TRUE, panel = TRUE)\n",
              "\n",
              "Frequencies of alternatives:choice\n",
              "      1       2       3       4 \n",
              "0.20476 0.26667 0.22381 0.30476 \n",
              "\n",
              "bfgs method\n",
              "66 iterations, 0h:0m:5s \n",
              "g'(-H)^-1g = 8.14E-07 \n",
              "gradient close to zero \n",
              "\n",
              "Coefficients :\n",
              "                                                            Estimate Std. Error\n",
              "PricePopular(10€-15€)                                       6.054535   2.173438\n",
              "PricePremium(15€-30€)                                       4.841800   2.052187\n",
              "PriceValue(3€-10€)                                          6.482771   2.198857\n",
              "BrandCavit                                                  0.345644   0.596463\n",
              "BrandFerrari                                                1.994997   0.777295\n",
              "BrandMezzacorona                                            2.229100   0.859193\n",
              "Type.of.WineRose wine                                       0.121032   0.902905\n",
              "Type.of.WineSparkling wine                                  1.048992   0.929552\n",
              "Type.of.WineWhite wine                                      0.879564   0.772390\n",
              "chol.PricePopular(10€-15€):PricePopular(10€-15€)            8.968165   3.021366\n",
              "chol.PricePopular(10€-15€):PricePremium(15€-30€)            8.138170   3.059715\n",
              "chol.PricePremium(15€-30€):PricePremium(15€-30€)           -1.438359   0.870239\n",
              "chol.PricePopular(10€-15€):PriceValue(3€-10€)               5.997521   2.699067\n",
              "chol.PricePremium(15€-30€):PriceValue(3€-10€)               3.121541   1.367872\n",
              "chol.PriceValue(3€-10€):PriceValue(3€-10€)                  2.273836   0.805261\n",
              "chol.PricePopular(10€-15€):BrandCavit                      -0.230234   0.873939\n",
              "chol.PricePremium(15€-30€):BrandCavit                      -1.619440   1.093751\n",
              "chol.PriceValue(3€-10€):BrandCavit                         -0.457771   0.947815\n",
              "chol.BrandCavit:BrandCavit                                 -2.596513   0.799129\n",
              "chol.PricePopular(10€-15€):BrandFerrari                    -1.084731   1.066097\n",
              "chol.PricePremium(15€-30€):BrandFerrari                    -1.126568   1.291494\n",
              "chol.PriceValue(3€-10€):BrandFerrari                        2.143259   1.123025\n",
              "chol.BrandCavit:BrandFerrari                                0.345323   0.845440\n",
              "chol.BrandFerrari:BrandFerrari                              0.716382   0.802765\n",
              "chol.PricePopular(10€-15€):BrandMezzacorona                 0.149182   1.274477\n",
              "chol.PricePremium(15€-30€):BrandMezzacorona                 2.102162   1.539191\n",
              "chol.PriceValue(3€-10€):BrandMezzacorona                   -1.843187   1.279742\n",
              "chol.BrandCavit:BrandMezzacorona                           -1.511433   0.873556\n",
              "chol.BrandFerrari:BrandMezzacorona                          0.660883   0.561758\n",
              "chol.BrandMezzacorona:BrandMezzacorona                      1.256296   0.882510\n",
              "chol.PricePopular(10€-15€):Type.of.WineRose wine            2.469051   1.418593\n",
              "chol.PricePremium(15€-30€):Type.of.WineRose wine           -2.358057   1.629471\n",
              "chol.PriceValue(3€-10€):Type.of.WineRose wine               0.832316   1.165529\n",
              "chol.BrandCavit:Type.of.WineRose wine                       2.289470   0.999054\n",
              "chol.BrandFerrari:Type.of.WineRose wine                     0.737981   0.910664\n",
              "chol.BrandMezzacorona:Type.of.WineRose wine                 0.053476   1.129407\n",
              "chol.Type.of.WineRose wine:Type.of.WineRose wine            0.927309   0.895006\n",
              "chol.PricePopular(10€-15€):Type.of.WineSparkling wine       0.482056   1.333541\n",
              "chol.PricePremium(15€-30€):Type.of.WineSparkling wine      -0.664107   1.500039\n",
              "chol.PriceValue(3€-10€):Type.of.WineSparkling wine          2.324047   1.301602\n",
              "chol.BrandCavit:Type.of.WineSparkling wine                  1.780854   1.017863\n",
              "chol.BrandFerrari:Type.of.WineSparkling wine                1.167610   0.936193\n",
              "chol.BrandMezzacorona:Type.of.WineSparkling wine            2.466195   1.290077\n",
              "chol.Type.of.WineRose wine:Type.of.WineSparkling wine       0.820125   0.760379\n",
              "chol.Type.of.WineSparkling wine:Type.of.WineSparkling wine -2.143683   0.877691\n",
              "chol.PricePopular(10€-15€):Type.of.WineWhite wine           1.328996   1.212397\n",
              "chol.PricePremium(15€-30€):Type.of.WineWhite wine           0.081852   1.379531\n",
              "chol.PriceValue(3€-10€):Type.of.WineWhite wine             -0.056242   1.105241\n",
              "chol.BrandCavit:Type.of.WineWhite wine                      1.510655   0.992283\n",
              "chol.BrandFerrari:Type.of.WineWhite wine                    0.028537   0.936596\n",
              "chol.BrandMezzacorona:Type.of.WineWhite wine                0.150577   1.160060\n",
              "chol.Type.of.WineRose wine:Type.of.WineWhite wine           2.236304   0.932631\n",
              "chol.Type.of.WineSparkling wine:Type.of.WineWhite wine      1.690594   0.996512\n",
              "chol.Type.of.WineWhite wine:Type.of.WineWhite wine         -1.134907   0.934011\n",
              "                                                           z-value Pr(>|z|)   \n",
              "PricePopular(10€-15€)                                       2.7857 0.005341 **\n",
              "PricePremium(15€-30€)                                       2.3593 0.018308 * \n",
              "PriceValue(3€-10€)                                          2.9482 0.003196 **\n",
              "BrandCavit                                                  0.5795 0.562258   \n",
              "BrandFerrari                                                2.5666 0.010270 * \n",
              "BrandMezzacorona                                            2.5944 0.009475 **\n",
              "Type.of.WineRose wine                                       0.1340 0.893365   \n",
              "Type.of.WineSparkling wine                                  1.1285 0.259112   \n",
              "Type.of.WineWhite wine                                      1.1388 0.254805   \n",
              "chol.PricePopular(10€-15€):PricePopular(10€-15€)            2.9682 0.002995 **\n",
              "chol.PricePopular(10€-15€):PricePremium(15€-30€)            2.6598 0.007819 **\n",
              "chol.PricePremium(15€-30€):PricePremium(15€-30€)           -1.6528 0.098365 . \n",
              "chol.PricePopular(10€-15€):PriceValue(3€-10€)               2.2221 0.026278 * \n",
              "chol.PricePremium(15€-30€):PriceValue(3€-10€)               2.2820 0.022487 * \n",
              "chol.PriceValue(3€-10€):PriceValue(3€-10€)                  2.8237 0.004747 **\n",
              "chol.PricePopular(10€-15€):BrandCavit                      -0.2634 0.792209   \n",
              "chol.PricePremium(15€-30€):BrandCavit                      -1.4806 0.138705   \n",
              "chol.PriceValue(3€-10€):BrandCavit                         -0.4830 0.629113   \n",
              "chol.BrandCavit:BrandCavit                                 -3.2492 0.001157 **\n",
              "chol.PricePopular(10€-15€):BrandFerrari                    -1.0175 0.308926   \n",
              "chol.PricePremium(15€-30€):BrandFerrari                    -0.8723 0.383046   \n",
              "chol.PriceValue(3€-10€):BrandFerrari                        1.9085 0.056331 . \n",
              "chol.BrandCavit:BrandFerrari                                0.4085 0.682940   \n",
              "chol.BrandFerrari:BrandFerrari                              0.8924 0.372182   \n",
              "chol.PricePopular(10€-15€):BrandMezzacorona                 0.1171 0.906818   \n",
              "chol.PricePremium(15€-30€):BrandMezzacorona                 1.3658 0.172015   \n",
              "chol.PriceValue(3€-10€):BrandMezzacorona                   -1.4403 0.149788   \n",
              "chol.BrandCavit:BrandMezzacorona                           -1.7302 0.083593 . \n",
              "chol.BrandFerrari:BrandMezzacorona                          1.1765 0.239413   \n",
              "chol.BrandMezzacorona:BrandMezzacorona                      1.4235 0.154577   \n",
              "chol.PricePopular(10€-15€):Type.of.WineRose wine            1.7405 0.081773 . \n",
              "chol.PricePremium(15€-30€):Type.of.WineRose wine           -1.4471 0.147860   \n",
              "chol.PriceValue(3€-10€):Type.of.WineRose wine               0.7141 0.475159   \n",
              "chol.BrandCavit:Type.of.WineRose wine                       2.2916 0.021927 * \n",
              "chol.BrandFerrari:Type.of.WineRose wine                     0.8104 0.417724   \n",
              "chol.BrandMezzacorona:Type.of.WineRose wine                 0.0473 0.962235   \n",
              "chol.Type.of.WineRose wine:Type.of.WineRose wine            1.0361 0.300159   \n",
              "chol.PricePopular(10€-15€):Type.of.WineSparkling wine       0.3615 0.717736   \n",
              "chol.PricePremium(15€-30€):Type.of.WineSparkling wine      -0.4427 0.657963   \n",
              "chol.PriceValue(3€-10€):Type.of.WineSparkling wine          1.7855 0.074176 . \n",
              "chol.BrandCavit:Type.of.WineSparkling wine                  1.7496 0.080187 . \n",
              "chol.BrandFerrari:Type.of.WineSparkling wine                1.2472 0.212328   \n",
              "chol.BrandMezzacorona:Type.of.WineSparkling wine            1.9117 0.055919 . \n",
              "chol.Type.of.WineRose wine:Type.of.WineSparkling wine       1.0786 0.280777   \n",
              "chol.Type.of.WineSparkling wine:Type.of.WineSparkling wine -2.4424 0.014590 * \n",
              "chol.PricePopular(10€-15€):Type.of.WineWhite wine           1.0962 0.273004   \n",
              "chol.PricePremium(15€-30€):Type.of.WineWhite wine           0.0593 0.952686   \n",
              "chol.PriceValue(3€-10€):Type.of.WineWhite wine             -0.0509 0.959416   \n",
              "chol.BrandCavit:Type.of.WineWhite wine                      1.5224 0.127908   \n",
              "chol.BrandFerrari:Type.of.WineWhite wine                    0.0305 0.975693   \n",
              "chol.BrandMezzacorona:Type.of.WineWhite wine                0.1298 0.896724   \n",
              "chol.Type.of.WineRose wine:Type.of.WineWhite wine           2.3978 0.016492 * \n",
              "chol.Type.of.WineSparkling wine:Type.of.WineWhite wine      1.6965 0.089789 . \n",
              "chol.Type.of.WineWhite wine:Type.of.WineWhite wine         -1.2151 0.224332   \n",
              "---\n",
              "Signif. codes:  0 ‘***’ 0.001 ‘**’ 0.01 ‘*’ 0.05 ‘.’ 0.1 ‘ ’ 1\n",
              "\n",
              "Log-Likelihood: -208.83\n",
              "\n",
              "random coefficients\n",
              "                           Min.      1st Qu.    Median      Mean   3rd Qu. Max.\n",
              "PricePopular(10€-15€)      -Inf  0.005599631 6.0545348 6.0545348 12.103470  Inf\n",
              "PricePremium(15€-30€)      -Inf -0.732386471 4.8418002 4.8418002 10.415987  Inf\n",
              "PriceValue(3€-10€)         -Inf  1.671403180 6.4827715 6.4827715 11.294140  Inf\n",
              "BrandCavit                 -Inf -1.747125476 0.3456444 0.3456444  2.438414  Inf\n",
              "BrandFerrari               -Inf  0.126794037 1.9949975 1.9949975  3.863201  Inf\n",
              "BrandMezzacorona           -Inf -0.120812102 2.2291003 2.2291003  4.579013  Inf\n",
              "Type.of.WineRose wine      -Inf -2.818880372 0.1210323 0.1210323  3.060945  Inf\n",
              "Type.of.WineSparkling wine -Inf -2.111728871 1.0489925 1.0489925  4.209714  Inf\n",
              "Type.of.WineWhite wine     -Inf -1.573653688 0.8795645 0.8795645  3.332783  Inf"
            ]
          },
          "metadata": {}
        }
      ]
    },
    {
      "cell_type": "code",
      "source": [
        "# This matrix shows that the correlation between the part worth for every attribute level with each other:\n",
        "\n",
        "cov2cor(cov.mlogit(m2.hier))"
      ],
      "metadata": {
        "colab": {
          "base_uri": "https://localhost:8080/",
          "height": 438
        },
        "id": "KsP1ovTYwLVX",
        "outputId": "9f281dc7-f056-47eb-80a0-f6d54bee08b6"
      },
      "execution_count": null,
      "outputs": [
        {
          "output_type": "display_data",
          "data": {
            "text/html": [
              "<table class=\"dataframe\">\n",
              "<caption>A matrix: 9 × 9 of type dbl</caption>\n",
              "<thead>\n",
              "\t<tr><th></th><th scope=col>PricePopular(10€-15€)</th><th scope=col>PricePremium(15€-30€)</th><th scope=col>PriceValue(3€-10€)</th><th scope=col>BrandCavit</th><th scope=col>BrandFerrari</th><th scope=col>BrandMezzacorona</th><th scope=col>Type.of.WineRose wine</th><th scope=col>Type.of.WineSparkling wine</th><th scope=col>Type.of.WineWhite wine</th></tr>\n",
              "</thead>\n",
              "<tbody>\n",
              "\t<tr><th scope=row>PricePopular(10€-15€)</th><td> 1.00000000</td><td> 0.98473773</td><td> 0.8407726</td><td>-0.07420316</td><td>-0.39162751</td><td> 0.04281927</td><td> 0.5664624</td><td> 0.1028695</td><td> 0.3653951</td></tr>\n",
              "\t<tr><th scope=row>PricePremium(15€-30€)</th><td> 0.98473773</td><td> 1.00000000</td><td> 0.7517788</td><td> 0.01776993</td><td>-0.31486075</td><td>-0.06284916</td><td> 0.6519747</td><td> 0.1259649</td><td> 0.3559016</td></tr>\n",
              "\t<tr><th scope=row>PriceValue(3€-10€)</th><td> 0.84077262</td><td> 0.75177877</td><td> 1.0000000</td><td>-0.33781651</td><td>-0.26059907</td><td> 0.13139942</td><td> 0.3003952</td><td> 0.1825623</td><td> 0.3121331</td></tr>\n",
              "\t<tr><th scope=row>BrandCavit</th><td>-0.07420316</td><td> 0.01776993</td><td>-0.3378165</td><td> 1.00000000</td><td> 0.02285227</td><td> 0.12299266</td><td>-0.2274012</td><td>-0.3248608</td><td>-0.3841534</td></tr>\n",
              "\t<tr><th scope=row>BrandFerrari</th><td>-0.39162751</td><td>-0.31486075</td><td>-0.2605991</td><td> 0.02285227</td><td> 1.00000000</td><td>-0.67658018</td><td> 0.2552356</td><td> 0.5129391</td><td>-0.1104058</td></tr>\n",
              "\t<tr><th scope=row>BrandMezzacorona</th><td> 0.04281927</td><td>-0.06284916</td><td> 0.1313994</td><td> 0.12299266</td><td>-0.67658018</td><td> 1.00000000</td><td>-0.5945240</td><td>-0.2713122</td><td>-0.1263622</td></tr>\n",
              "\t<tr><th scope=row>Type.of.WineRose wine</th><td> 0.56646237</td><td> 0.65197468</td><td> 0.3003952</td><td>-0.22740120</td><td> 0.25523560</td><td>-0.59452398</td><td> 1.0000000</td><td> 0.5151360</td><td> 0.5426623</td></tr>\n",
              "\t<tr><th scope=row>Type.of.WineSparkling wine</th><td> 0.10286951</td><td> 0.12596491</td><td> 0.1825623</td><td>-0.32486082</td><td> 0.51293913</td><td>-0.27131218</td><td> 0.5151360</td><td> 1.0000000</td><td> 0.1032893</td></tr>\n",
              "\t<tr><th scope=row>Type.of.WineWhite wine</th><td> 0.36539514</td><td> 0.35590158</td><td> 0.3121331</td><td>-0.38415337</td><td>-0.11040580</td><td>-0.12636225</td><td> 0.5426623</td><td> 0.1032893</td><td> 1.0000000</td></tr>\n",
              "</tbody>\n",
              "</table>\n"
            ],
            "text/markdown": "\nA matrix: 9 × 9 of type dbl\n\n| <!--/--> | PricePopular(10€-15€) | PricePremium(15€-30€) | PriceValue(3€-10€) | BrandCavit | BrandFerrari | BrandMezzacorona | Type.of.WineRose wine | Type.of.WineSparkling wine | Type.of.WineWhite wine |\n|---|---|---|---|---|---|---|---|---|---|\n| PricePopular(10€-15€) |  1.00000000 |  0.98473773 |  0.8407726 | -0.07420316 | -0.39162751 |  0.04281927 |  0.5664624 |  0.1028695 |  0.3653951 |\n| PricePremium(15€-30€) |  0.98473773 |  1.00000000 |  0.7517788 |  0.01776993 | -0.31486075 | -0.06284916 |  0.6519747 |  0.1259649 |  0.3559016 |\n| PriceValue(3€-10€) |  0.84077262 |  0.75177877 |  1.0000000 | -0.33781651 | -0.26059907 |  0.13139942 |  0.3003952 |  0.1825623 |  0.3121331 |\n| BrandCavit | -0.07420316 |  0.01776993 | -0.3378165 |  1.00000000 |  0.02285227 |  0.12299266 | -0.2274012 | -0.3248608 | -0.3841534 |\n| BrandFerrari | -0.39162751 | -0.31486075 | -0.2605991 |  0.02285227 |  1.00000000 | -0.67658018 |  0.2552356 |  0.5129391 | -0.1104058 |\n| BrandMezzacorona |  0.04281927 | -0.06284916 |  0.1313994 |  0.12299266 | -0.67658018 |  1.00000000 | -0.5945240 | -0.2713122 | -0.1263622 |\n| Type.of.WineRose wine |  0.56646237 |  0.65197468 |  0.3003952 | -0.22740120 |  0.25523560 | -0.59452398 |  1.0000000 |  0.5151360 |  0.5426623 |\n| Type.of.WineSparkling wine |  0.10286951 |  0.12596491 |  0.1825623 | -0.32486082 |  0.51293913 | -0.27131218 |  0.5151360 |  1.0000000 |  0.1032893 |\n| Type.of.WineWhite wine |  0.36539514 |  0.35590158 |  0.3121331 | -0.38415337 | -0.11040580 | -0.12636225 |  0.5426623 |  0.1032893 |  1.0000000 |\n\n",
            "text/latex": "A matrix: 9 × 9 of type dbl\n\\begin{tabular}{r|lllllllll}\n  & PricePopular(10€-15€) & PricePremium(15€-30€) & PriceValue(3€-10€) & BrandCavit & BrandFerrari & BrandMezzacorona & Type.of.WineRose wine & Type.of.WineSparkling wine & Type.of.WineWhite wine\\\\\n\\hline\n\tPricePopular(10€-15€) &  1.00000000 &  0.98473773 &  0.8407726 & -0.07420316 & -0.39162751 &  0.04281927 &  0.5664624 &  0.1028695 &  0.3653951\\\\\n\tPricePremium(15€-30€) &  0.98473773 &  1.00000000 &  0.7517788 &  0.01776993 & -0.31486075 & -0.06284916 &  0.6519747 &  0.1259649 &  0.3559016\\\\\n\tPriceValue(3€-10€) &  0.84077262 &  0.75177877 &  1.0000000 & -0.33781651 & -0.26059907 &  0.13139942 &  0.3003952 &  0.1825623 &  0.3121331\\\\\n\tBrandCavit & -0.07420316 &  0.01776993 & -0.3378165 &  1.00000000 &  0.02285227 &  0.12299266 & -0.2274012 & -0.3248608 & -0.3841534\\\\\n\tBrandFerrari & -0.39162751 & -0.31486075 & -0.2605991 &  0.02285227 &  1.00000000 & -0.67658018 &  0.2552356 &  0.5129391 & -0.1104058\\\\\n\tBrandMezzacorona &  0.04281927 & -0.06284916 &  0.1313994 &  0.12299266 & -0.67658018 &  1.00000000 & -0.5945240 & -0.2713122 & -0.1263622\\\\\n\tType.of.WineRose wine &  0.56646237 &  0.65197468 &  0.3003952 & -0.22740120 &  0.25523560 & -0.59452398 &  1.0000000 &  0.5151360 &  0.5426623\\\\\n\tType.of.WineSparkling wine &  0.10286951 &  0.12596491 &  0.1825623 & -0.32486082 &  0.51293913 & -0.27131218 &  0.5151360 &  1.0000000 &  0.1032893\\\\\n\tType.of.WineWhite wine &  0.36539514 &  0.35590158 &  0.3121331 & -0.38415337 & -0.11040580 & -0.12636225 &  0.5426623 &  0.1032893 &  1.0000000\\\\\n\\end{tabular}\n",
            "text/plain": [
              "                           PricePopular(10€-15€) PricePremium(15€-30€)\n",
              "PricePopular(10€-15€)       1.00000000            0.98473773          \n",
              "PricePremium(15€-30€)       0.98473773            1.00000000          \n",
              "PriceValue(3€-10€)          0.84077262            0.75177877          \n",
              "BrandCavit                 -0.07420316            0.01776993          \n",
              "BrandFerrari               -0.39162751           -0.31486075          \n",
              "BrandMezzacorona            0.04281927           -0.06284916          \n",
              "Type.of.WineRose wine       0.56646237            0.65197468          \n",
              "Type.of.WineSparkling wine  0.10286951            0.12596491          \n",
              "Type.of.WineWhite wine      0.36539514            0.35590158          \n",
              "                           PriceValue(3€-10€) BrandCavit  BrandFerrari\n",
              "PricePopular(10€-15€)       0.8407726         -0.07420316 -0.39162751 \n",
              "PricePremium(15€-30€)       0.7517788          0.01776993 -0.31486075 \n",
              "PriceValue(3€-10€)          1.0000000         -0.33781651 -0.26059907 \n",
              "BrandCavit                 -0.3378165          1.00000000  0.02285227 \n",
              "BrandFerrari               -0.2605991          0.02285227  1.00000000 \n",
              "BrandMezzacorona            0.1313994          0.12299266 -0.67658018 \n",
              "Type.of.WineRose wine       0.3003952         -0.22740120  0.25523560 \n",
              "Type.of.WineSparkling wine  0.1825623         -0.32486082  0.51293913 \n",
              "Type.of.WineWhite wine      0.3121331         -0.38415337 -0.11040580 \n",
              "                           BrandMezzacorona Type.of.WineRose wine\n",
              "PricePopular(10€-15€)       0.04281927       0.5664624           \n",
              "PricePremium(15€-30€)      -0.06284916       0.6519747           \n",
              "PriceValue(3€-10€)          0.13139942       0.3003952           \n",
              "BrandCavit                  0.12299266      -0.2274012           \n",
              "BrandFerrari               -0.67658018       0.2552356           \n",
              "BrandMezzacorona            1.00000000      -0.5945240           \n",
              "Type.of.WineRose wine      -0.59452398       1.0000000           \n",
              "Type.of.WineSparkling wine -0.27131218       0.5151360           \n",
              "Type.of.WineWhite wine     -0.12636225       0.5426623           \n",
              "                           Type.of.WineSparkling wine Type.of.WineWhite wine\n",
              "PricePopular(10€-15€)       0.1028695                  0.3653951            \n",
              "PricePremium(15€-30€)       0.1259649                  0.3559016            \n",
              "PriceValue(3€-10€)          0.1825623                  0.3121331            \n",
              "BrandCavit                 -0.3248608                 -0.3841534            \n",
              "BrandFerrari                0.5129391                 -0.1104058            \n",
              "BrandMezzacorona           -0.2713122                 -0.1263622            \n",
              "Type.of.WineRose wine       0.5151360                  0.5426623            \n",
              "Type.of.WineSparkling wine  1.0000000                  0.1032893            \n",
              "Type.of.WineWhite wine      0.1032893                  1.0000000            "
            ]
          },
          "metadata": {}
        }
      ]
    },
    {
      "cell_type": "markdown",
      "source": [
        "Part worth for Price Popular(10€-15€) has very high correlation (0.98) with part worth for Price Premium(15€-30€). A strong association. In real data, it is common to find\n",
        "correlations between levels of the same attribute; if an attribute is important to a\n",
        "respondent, then he or she will likely have parameters with larger absolute values\n",
        "for all the levels of that attribute."
      ],
      "metadata": {
        "id": "r7xqIuSXxYlq"
      }
    },
    {
      "cell_type": "markdown",
      "source": [
        "### Share Simulator :"
      ],
      "metadata": {
        "id": "Z27hfbPIymSQ"
      }
    },
    {
      "cell_type": "code",
      "source": [
        "\n",
        "# Simulating shares\n",
        "predict.hier.mnl <- function(model, data, nresp=1000) {\n",
        "  # Function to predict shares from a hierarchical multinomial logit model \n",
        "  # model: mlogit object returned by mlogit()\n",
        "  # data: a data frame containing the set of designs for which you want to \n",
        "  #       predict shares.  Same format at the data used to estimate model. \n",
        "  # Note that this code assumes all model parameters are random\n",
        "  library(MASS)\n",
        "  data.model <- model.matrix(update(model$formula, 0 ~ .), data = data)[ , -1]\n",
        "  coef.Sigma <- cov.mlogit(model)\n",
        "  coef.mu <- model$coef[1:dim(coef.Sigma)[1]]\n",
        "  draws <- mvrnorm(n=nresp, coef.mu, coef.Sigma)\n",
        "  shares <- matrix(NA, nrow=nresp, ncol=nrow(data))\n",
        "  for (i in 1:nresp) {\n",
        "    utility <- data.model%*%draws[i, ]\n",
        "    share = exp(utility)/sum(exp(utility))\n",
        "    shares[i, ] <- share\n",
        "  }\n",
        "  cbind(colMeans(shares), data)\n",
        "}"
      ],
      "metadata": {
        "id": "5FvC8xB2wLv0"
      },
      "execution_count": null,
      "outputs": []
    },
    {
      "cell_type": "code",
      "source": [
        "predict.hier.mnl(m2.hier, data=new.data)"
      ],
      "metadata": {
        "colab": {
          "base_uri": "https://localhost:8080/",
          "height": 442
        },
        "id": "r6-0kzD4yhfX",
        "outputId": "33c1668d-b32a-40f5-c869-f4e0a17fb932"
      },
      "execution_count": null,
      "outputs": [
        {
          "output_type": "stream",
          "name": "stderr",
          "text": [
            "\n",
            "Attaching package: ‘MASS’\n",
            "\n",
            "\n",
            "The following object is masked from ‘package:dfidx’:\n",
            "\n",
            "    select\n",
            "\n",
            "\n"
          ]
        },
        {
          "output_type": "display_data",
          "data": {
            "text/html": [
              "<table class=\"dataframe\">\n",
              "<caption>A data.frame: 6 × 6</caption>\n",
              "<thead>\n",
              "\t<tr><th></th><th scope=col>colMeans(shares)</th><th scope=col>Price</th><th scope=col>Brand</th><th scope=col>Type.of.Wine</th><th scope=col>Percentage.of.Alcohol</th><th scope=col>Aging.time.of.Wine</th></tr>\n",
              "\t<tr><th></th><th scope=col>&lt;dbl&gt;</th><th scope=col>&lt;fct&gt;</th><th scope=col>&lt;fct&gt;</th><th scope=col>&lt;fct&gt;</th><th scope=col>&lt;fct&gt;</th><th scope=col>&lt;fct&gt;</th></tr>\n",
              "</thead>\n",
              "<tbody>\n",
              "\t<tr><th scope=row>8</th><td>0.41452516</td><td>Luxury(50€-100€)</td><td>Cavit          </td><td>Red wine      </td><td>5.5 %</td><td>1 year</td></tr>\n",
              "\t<tr><th scope=row>1</th><td>0.02762385</td><td>Value(3€-10€)   </td><td>Cantina Toblino</td><td>Red wine      </td><td>5.5 %</td><td>1 year</td></tr>\n",
              "\t<tr><th scope=row>5</th><td>0.04756895</td><td>Value(3€-10€)   </td><td>Cavit          </td><td>Red wine      </td><td>5.5 %</td><td>1 year</td></tr>\n",
              "\t<tr><th scope=row>71</th><td>0.31508488</td><td>Premium(15€-30€)</td><td>Cavit          </td><td>Red wine      </td><td>7 %  </td><td>1 year</td></tr>\n",
              "\t<tr><th scope=row>33</th><td>0.14762822</td><td>Value(3€-10€)   </td><td>Cantina Toblino</td><td>Sparkling wine</td><td>5.5 %</td><td>1 year</td></tr>\n",
              "\t<tr><th scope=row>69</th><td>0.04756895</td><td>Value(3€-10€)   </td><td>Cavit          </td><td>Red wine      </td><td>7 %  </td><td>1 year</td></tr>\n",
              "</tbody>\n",
              "</table>\n"
            ],
            "text/markdown": "\nA data.frame: 6 × 6\n\n| <!--/--> | colMeans(shares) &lt;dbl&gt; | Price &lt;fct&gt; | Brand &lt;fct&gt; | Type.of.Wine &lt;fct&gt; | Percentage.of.Alcohol &lt;fct&gt; | Aging.time.of.Wine &lt;fct&gt; |\n|---|---|---|---|---|---|---|\n| 8 | 0.41452516 | Luxury(50€-100€) | Cavit           | Red wine       | 5.5 % | 1 year |\n| 1 | 0.02762385 | Value(3€-10€)    | Cantina Toblino | Red wine       | 5.5 % | 1 year |\n| 5 | 0.04756895 | Value(3€-10€)    | Cavit           | Red wine       | 5.5 % | 1 year |\n| 71 | 0.31508488 | Premium(15€-30€) | Cavit           | Red wine       | 7 %   | 1 year |\n| 33 | 0.14762822 | Value(3€-10€)    | Cantina Toblino | Sparkling wine | 5.5 % | 1 year |\n| 69 | 0.04756895 | Value(3€-10€)    | Cavit           | Red wine       | 7 %   | 1 year |\n\n",
            "text/latex": "A data.frame: 6 × 6\n\\begin{tabular}{r|llllll}\n  & colMeans(shares) & Price & Brand & Type.of.Wine & Percentage.of.Alcohol & Aging.time.of.Wine\\\\\n  & <dbl> & <fct> & <fct> & <fct> & <fct> & <fct>\\\\\n\\hline\n\t8 & 0.41452516 & Luxury(50€-100€) & Cavit           & Red wine       & 5.5 \\% & 1 year\\\\\n\t1 & 0.02762385 & Value(3€-10€)    & Cantina Toblino & Red wine       & 5.5 \\% & 1 year\\\\\n\t5 & 0.04756895 & Value(3€-10€)    & Cavit           & Red wine       & 5.5 \\% & 1 year\\\\\n\t71 & 0.31508488 & Premium(15€-30€) & Cavit           & Red wine       & 7 \\%   & 1 year\\\\\n\t33 & 0.14762822 & Value(3€-10€)    & Cantina Toblino & Sparkling wine & 5.5 \\% & 1 year\\\\\n\t69 & 0.04756895 & Value(3€-10€)    & Cavit           & Red wine       & 7 \\%   & 1 year\\\\\n\\end{tabular}\n",
            "text/plain": [
              "   colMeans(shares) Price            Brand           Type.of.Wine  \n",
              "8  0.41452516       Luxury(50€-100€) Cavit           Red wine      \n",
              "1  0.02762385       Value(3€-10€)    Cantina Toblino Red wine      \n",
              "5  0.04756895       Value(3€-10€)    Cavit           Red wine      \n",
              "71 0.31508488       Premium(15€-30€) Cavit           Red wine      \n",
              "33 0.14762822       Value(3€-10€)    Cantina Toblino Sparkling wine\n",
              "69 0.04756895       Value(3€-10€)    Cavit           Red wine      \n",
              "   Percentage.of.Alcohol Aging.time.of.Wine\n",
              "8  5.5 %                 1 year            \n",
              "1  5.5 %                 1 year            \n",
              "5  5.5 %                 1 year            \n",
              "71 7 %                   1 year            \n",
              "33 5.5 %                 1 year            \n",
              "69 7 %                   1 year            "
            ]
          },
          "metadata": {}
        }
      ]
    },
    {
      "cell_type": "code",
      "source": [
        "# Share sensitivity\n",
        "sensitivity1.mnl <- function(model, attrib, base.data, competitor.data) {\n",
        "  # Function for creating data for a share-sensitivity chart\n",
        "  # model: mlogit object returned by mlogit() function\n",
        "  # attrib: list of vectors with attribute levels to be used in sensitivity\n",
        "  # base.data: data frame containing baseline design of target product\n",
        "  # competitor.data: data frame contining design of competitive set\n",
        "  data <- rbind(base.data, competitor.data)\n",
        "  base.share <- predict.hier.mnl(model, data)[1, 1]\n",
        "  share <- NULL\n",
        "  for (a in seq_along(attrib)) {\n",
        "    for (i in attrib[[a]]) {\n",
        "      data[1,] <- base.data\n",
        "      data[1,a] <- i\n",
        "      share <- c(share, predict.hier.mnl(model, data)[1, 1])\n",
        "    }\n",
        "  }\n",
        "  data.frame(level=unlist(attrib), share=share, increase=share-base.share)\n",
        "}"
      ],
      "metadata": {
        "id": "7UZdEbcv3VxE"
      },
      "execution_count": null,
      "outputs": []
    },
    {
      "cell_type": "code",
      "source": [
        "tradeoff <- sensitivity1.mnl(m2.hier, attrib, base.data, competitor.data)"
      ],
      "metadata": {
        "id": "JMz_fnjsykQ-"
      },
      "execution_count": null,
      "outputs": []
    },
    {
      "cell_type": "markdown",
      "source": [
        "### Sensitivity Plot:"
      ],
      "metadata": {
        "id": "RMbDaC8o4QVl"
      }
    },
    {
      "cell_type": "code",
      "source": [
        "# Sensitivity plot using the tradeoff table\n",
        "\n",
        "barplot(tradeoff$increase, horiz=FALSE, names.arg=tradeoff$level,\n",
        "        ylab=\"Change in Share for Baseline Product\")"
      ],
      "metadata": {
        "colab": {
          "base_uri": "https://localhost:8080/",
          "height": 437
        },
        "id": "nn2Kq_Z43pZz",
        "outputId": "4e647f42-43bc-4677-b781-ffc45eb9afbc"
      },
      "execution_count": null,
      "outputs": [
        {
          "output_type": "display_data",
          "data": {
            "text/plain": [
              "plot without title"
            ],
            "image/png": "[encoded data removed]"
          },
          "metadata": {
            "image/png": {
              "width": 420,
              "height": 420
            }
          }
        }
      ]
    }
  ]
}
